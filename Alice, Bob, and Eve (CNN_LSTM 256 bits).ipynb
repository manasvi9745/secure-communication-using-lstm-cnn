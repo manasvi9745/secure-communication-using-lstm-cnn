{
  "nbformat": 4,
  "nbformat_minor": 0,
  "metadata": {
    "colab": {
      "provenance": []
    },
    "kernelspec": {
      "name": "python3",
      "display_name": "Python 3"
    },
    "language_info": {
      "name": "python"
    }
  },
  "cells": [
    {
      "cell_type": "markdown",
      "source": [
        "# Importing the Libraries"
      ],
      "metadata": {
        "id": "vmKUfcRNWHTr"
      }
    },
    {
      "cell_type": "code",
      "execution_count": 1,
      "metadata": {
        "id": "zsDLaenOV2Rj"
      },
      "outputs": [],
      "source": [
        "import tensorflow as tf\n",
        "from tensorflow.keras import layers, models, optimizers, losses\n",
        "import numpy as np\n",
        "import matplotlib.pyplot as plt"
      ]
    },
    {
      "cell_type": "markdown",
      "source": [
        "# Data Generation"
      ],
      "metadata": {
        "id": "VTJs3mjQWjfW"
      }
    },
    {
      "cell_type": "markdown",
      "source": [
        "## Defining the function"
      ],
      "metadata": {
        "id": "MXC_s1eiWygU"
      }
    },
    {
      "cell_type": "code",
      "source": [
        "def generate_data(batch_size, seq_length):\n",
        "    messages = np.random.choice([-1, 1], size=(batch_size, seq_length, 1)).astype(np.float32)\n",
        "    keys = np.random.choice([-1, 1], size=(batch_size, seq_length, 1)).astype(np.float32)\n",
        "    return messages, keys"
      ],
      "metadata": {
        "id": "TEU6YD4rWnk1"
      },
      "execution_count": 2,
      "outputs": []
    },
    {
      "cell_type": "markdown",
      "source": [
        "## Parameters for Data Generation"
      ],
      "metadata": {
        "id": "j5K3lgWjW4to"
      }
    },
    {
      "cell_type": "code",
      "source": [
        "batch_size = 64\n",
        "seq_length = 256\n",
        "train_size = 1000\n",
        "test_size = 200"
      ],
      "metadata": {
        "id": "cgWtUfUuW-WV"
      },
      "execution_count": 3,
      "outputs": []
    },
    {
      "cell_type": "markdown",
      "source": [
        "## Generating training and testing data"
      ],
      "metadata": {
        "id": "CkIOocqiXFgI"
      }
    },
    {
      "cell_type": "code",
      "source": [
        "train_messages, train_keys = generate_data(train_size, seq_length)\n",
        "test_messages, test_keys = generate_data(test_size, seq_length)"
      ],
      "metadata": {
        "id": "mSZzQKwnXLyi"
      },
      "execution_count": 4,
      "outputs": []
    },
    {
      "cell_type": "markdown",
      "source": [
        "# Defining the Neural Networks"
      ],
      "metadata": {
        "id": "kCBLZu1wXXEz"
      }
    },
    {
      "cell_type": "markdown",
      "source": [
        "## Alice's Neural Network"
      ],
      "metadata": {
        "id": "ETblyBNss4rJ"
      }
    },
    {
      "cell_type": "code",
      "source": [
        "def build_encryption_net():\n",
        "    model = models.Sequential()\n",
        "    model.add(layers.Conv1D(seq_length, 3, padding='same', input_shape=(None, 2)))\n",
        "    model.add(layers.LSTM(64, return_sequences=True))\n",
        "    model.add(layers.LSTM(32, return_sequences=True))\n",
        "    model.add(layers.TimeDistributed(layers.Dense(32, activation='relu')))\n",
        "    model.add(layers.TimeDistributed(layers.Dense(1, activation='sigmoid')))\n",
        "    return model"
      ],
      "metadata": {
        "id": "562Pf_kcXk8X"
      },
      "execution_count": 5,
      "outputs": []
    },
    {
      "cell_type": "markdown",
      "source": [
        "## Bob's Neural Network"
      ],
      "metadata": {
        "id": "IdK_3_6rs9cL"
      }
    },
    {
      "cell_type": "code",
      "source": [
        "def build_decryption_net():\n",
        "    model = models.Sequential()\n",
        "    model.add(layers.Conv1D(seq_length, 3, padding='same', input_shape=(None, 2)))\n",
        "    model.add(layers.LSTM(64, return_sequences=True))\n",
        "    model.add(layers.LSTM(32, return_sequences=True))\n",
        "    model.add(layers.TimeDistributed(layers.Dense(32, activation='relu')))\n",
        "    model.add(layers.TimeDistributed(layers.Dense(1, activation='sigmoid')))\n",
        "    return model"
      ],
      "metadata": {
        "id": "qecQi1_ms_07"
      },
      "execution_count": 6,
      "outputs": []
    },
    {
      "cell_type": "markdown",
      "source": [
        "## Eve's Neural Network"
      ],
      "metadata": {
        "id": "9sv2Bk7BtA1P"
      }
    },
    {
      "cell_type": "code",
      "source": [
        "def build_adversary_net():\n",
        "    model = models.Sequential()\n",
        "    model.add(layers.InputLayer(input_shape=(seq_length, 1)))\n",
        "    model.add(layers.Dense(seq_length, activation='relu'))\n",
        "    model.add(layers.Dense(seq_length*2, activation='relu'))\n",
        "    model.add(layers.Dense(1, activation='sigmoid'))\n",
        "    return model"
      ],
      "metadata": {
        "id": "vqvirkYKtDrt"
      },
      "execution_count": 7,
      "outputs": []
    },
    {
      "cell_type": "markdown",
      "source": [
        "## Loss Functions"
      ],
      "metadata": {
        "id": "dakrh5wxe-5A"
      }
    },
    {
      "cell_type": "code",
      "source": [
        "def separation(alice_input, bob_output):\n",
        "    separation_value = tf.reduce_sum(tf.abs(tf.subtract(alice_input, bob_output)), axis=1)\n",
        "    # print(\"separation\", separation_value.numpy())\n",
        "    return separation_value\n",
        "\n",
        "def eve_vs_random_guess(alice_input, eve_output):\n",
        "    loss = tf.square(seq_length/2 - separation(alice_input, eve_output)) / (seq_length/2) ** 2\n",
        "    # print(\"Eve vs random guess loss:\", loss.numpy())\n",
        "    return tf.reduce_mean(loss)\n",
        "\n",
        "def combined_loss_function(alice_input, decipher_bob, eve_output):\n",
        "    loss = separation(alice_input, decipher_bob)/seq_length + eve_vs_random_guess(alice_input, eve_output)\n",
        "    # print(\"Combined loss function:\", loss.numpy())\n",
        "    return tf.reduce_mean(loss)\n",
        "\n",
        "def attacker_loss(alice_input, eve_output):\n",
        "    loss = separation(alice_input, eve_output)\n",
        "    # print(\"Attacker loss:\", loss.numpy())\n",
        "    return tf.reduce_mean(loss)"
      ],
      "metadata": {
        "id": "xV0mtS23fIqM"
      },
      "execution_count": 8,
      "outputs": []
    },
    {
      "cell_type": "markdown",
      "source": [
        "## Instantiating and compiling the Neural Networks"
      ],
      "metadata": {
        "id": "UATxS3WYtbEz"
      }
    },
    {
      "cell_type": "code",
      "source": [
        "alice = build_encryption_net()\n",
        "bob = build_decryption_net()\n",
        "eve = build_adversary_net()"
      ],
      "metadata": {
        "id": "jjdJupnrtdSE"
      },
      "execution_count": 9,
      "outputs": []
    },
    {
      "cell_type": "code",
      "source": [
        "optimizer_ab = optimizers.Adam(learning_rate=0.0008)\n",
        "optimizer_e = optimizers.Adam(learning_rate=0.0008)"
      ],
      "metadata": {
        "id": "k-HWLQsQt8XG"
      },
      "execution_count": 10,
      "outputs": []
    },
    {
      "cell_type": "markdown",
      "source": [
        "## Training and Testing"
      ],
      "metadata": {
        "id": "11eCTf85ukDp"
      }
    },
    {
      "cell_type": "code",
      "source": [
        "num_epochs = 250\n",
        "\n",
        "train_losses_ab_list = []\n",
        "train_losses_e_list = []\n",
        "test_losses_ab_list = []\n",
        "test_losses_e_list = []\n",
        "\n",
        "for epoch in range(num_epochs):\n",
        "    with tf.GradientTape() as tape_ab:\n",
        "        combined_input = tf.concat([train_messages, train_keys], axis=-1)\n",
        "        ciphertext = alice(combined_input)\n",
        "\n",
        "        decrypted_input = tf.concat([ciphertext, train_keys], axis=-1)\n",
        "        decrypted_messages = bob(decrypted_input)\n",
        "\n",
        "        loss_ab = combined_loss_function(train_messages, decrypted_messages, eve(ciphertext))\n",
        "\n",
        "    gradients_ab = tape_ab.gradient(loss_ab, alice.trainable_variables + bob.trainable_variables)\n",
        "    optimizer_ab.apply_gradients(zip(gradients_ab, alice.trainable_variables + bob.trainable_variables))\n",
        "\n",
        "    with tf.GradientTape() as tape_e:\n",
        "        guessed_messages = eve(ciphertext)\n",
        "        loss_e = attacker_loss(train_messages, guessed_messages)  # L1 loss for Eve\n",
        "\n",
        "    gradients_e = tape_e.gradient(loss_e, eve.trainable_variables)\n",
        "    optimizer_e.apply_gradients(zip(gradients_e, eve.trainable_variables))\n",
        "\n",
        "    train_losses_ab_list.append(loss_ab.numpy())\n",
        "    train_losses_e_list.append(loss_e.numpy())\n",
        "\n",
        "    test_ciphertext = alice(tf.concat([test_messages, test_keys], axis=-1))\n",
        "    test_decrypted_messages = bob(tf.concat([test_ciphertext, test_keys], axis=-1))\n",
        "    test_guessed_messages = eve(test_ciphertext)\n",
        "\n",
        "    test_loss_ab = combined_loss_function(test_messages, test_decrypted_messages, test_guessed_messages)\n",
        "    test_loss_e = attacker_loss(test_messages, test_guessed_messages)\n",
        "\n",
        "    test_losses_ab_list.append(test_loss_ab.numpy())\n",
        "    test_losses_e_list.append(test_loss_e.numpy())\n",
        "\n",
        "    print(f\"Epoch {epoch + 1}/{num_epochs}, \"\n",
        "          f\"Train Loss_AB: {loss_ab.numpy()}, Train Loss_E: {loss_e.numpy()}, \"\n",
        "          f\"Test Loss_AB: {test_loss_ab.numpy()}, Test Loss_E: {test_loss_e.numpy()}\")"
      ],
      "metadata": {
        "colab": {
          "base_uri": "https://localhost:8080/"
        },
        "id": "h7kg1Ae6umTK",
        "outputId": "ef1a5ab2-5edd-4060-f970-f3730fcb4b48"
      },
      "execution_count": 11,
      "outputs": [
        {
          "output_type": "stream",
          "name": "stdout",
          "text": [
            "Epoch 1/250, Train Loss_AB: 1.9963306188583374, Train Loss_E: 255.61367797851562, Test Loss_AB: 2.024757146835327, Test Loss_E: 257.0577392578125\n",
            "Epoch 2/250, Train Loss_AB: 1.9960376024246216, Train Loss_E: 255.5809326171875, Test Loss_AB: 2.0249602794647217, Test Loss_E: 257.0473327636719\n",
            "Epoch 3/250, Train Loss_AB: 1.995358943939209, Train Loss_E: 255.52505493164062, Test Loss_AB: 2.024695873260498, Test Loss_E: 257.00823974609375\n",
            "Epoch 4/250, Train Loss_AB: 1.9942617416381836, Train Loss_E: 255.44381713867188, Test Loss_AB: 2.023953914642334, Test Loss_E: 256.93890380859375\n",
            "Epoch 5/250, Train Loss_AB: 1.9927130937576294, Train Loss_E: 255.33486938476562, Test Loss_AB: 2.0226752758026123, Test Loss_E: 256.8362121582031\n",
            "Epoch 6/250, Train Loss_AB: 1.9906704425811768, Train Loss_E: 255.1964111328125, Test Loss_AB: 2.0209062099456787, Test Loss_E: 256.70233154296875\n",
            "Epoch 7/250, Train Loss_AB: 1.988147497177124, Train Loss_E: 255.028076171875, Test Loss_AB: 2.0184569358825684, Test Loss_E: 256.5257263183594\n",
            "Epoch 8/250, Train Loss_AB: 1.9849592447280884, Train Loss_E: 254.8179473876953, Test Loss_AB: 2.0152180194854736, Test Loss_E: 256.3002014160156\n",
            "Epoch 9/250, Train Loss_AB: 1.9810359477996826, Train Loss_E: 254.5609130859375, Test Loss_AB: 2.0110998153686523, Test Loss_E: 256.0181884765625\n",
            "Epoch 10/250, Train Loss_AB: 1.9762718677520752, Train Loss_E: 254.24945068359375, Test Loss_AB: 2.005828857421875, Test Loss_E: 255.6636962890625\n",
            "Epoch 11/250, Train Loss_AB: 1.9704216718673706, Train Loss_E: 253.86795043945312, Test Loss_AB: 1.9992071390151978, Test Loss_E: 255.22598266601562\n",
            "Epoch 12/250, Train Loss_AB: 1.9633359909057617, Train Loss_E: 253.40725708007812, Test Loss_AB: 1.9910964965820312, Test Loss_E: 254.69659423828125\n",
            "Epoch 13/250, Train Loss_AB: 1.9548882246017456, Train Loss_E: 252.85926818847656, Test Loss_AB: 1.9812148809432983, Test Loss_E: 254.0583038330078\n",
            "Epoch 14/250, Train Loss_AB: 1.9448115825653076, Train Loss_E: 252.20684814453125, Test Loss_AB: 1.9693315029144287, Test Loss_E: 253.2967529296875\n",
            "Epoch 15/250, Train Loss_AB: 1.9328826665878296, Train Loss_E: 251.4353485107422, Test Loss_AB: 1.955350637435913, Test Loss_E: 252.4061737060547\n",
            "Epoch 16/250, Train Loss_AB: 1.9190126657485962, Train Loss_E: 250.53887939453125, Test Loss_AB: 1.9392427206039429, Test Loss_E: 251.3846893310547\n",
            "Epoch 17/250, Train Loss_AB: 1.903167486190796, Train Loss_E: 249.5149383544922, Test Loss_AB: 1.9208941459655762, Test Loss_E: 250.22314453125\n",
            "Epoch 18/250, Train Loss_AB: 1.8852052688598633, Train Loss_E: 248.35272216796875, Test Loss_AB: 1.9000767469406128, Test Loss_E: 248.9031219482422\n",
            "Epoch 19/250, Train Loss_AB: 1.8648782968521118, Train Loss_E: 247.03297424316406, Test Loss_AB: 1.876335859298706, Test Loss_E: 247.38832092285156\n",
            "Epoch 20/250, Train Loss_AB: 1.841711401939392, Train Loss_E: 245.5189208984375, Test Loss_AB: 1.8495577573776245, Test Loss_E: 245.6634521484375\n",
            "Epoch 21/250, Train Loss_AB: 1.8155744075775146, Train Loss_E: 243.7955780029297, Test Loss_AB: 1.8198275566101074, Test Loss_E: 243.72633361816406\n",
            "Epoch 22/250, Train Loss_AB: 1.7865452766418457, Train Loss_E: 241.8614044189453, Test Loss_AB: 1.7873005867004395, Test Loss_E: 241.5809326171875\n",
            "Epoch 23/250, Train Loss_AB: 1.7547942399978638, Train Loss_E: 239.7220001220703, Test Loss_AB: 1.7519900798797607, Test Loss_E: 239.21986389160156\n",
            "Epoch 24/250, Train Loss_AB: 1.7203407287597656, Train Loss_E: 237.37112426757812, Test Loss_AB: 1.7140426635742188, Test Loss_E: 236.64402770996094\n",
            "Epoch 25/250, Train Loss_AB: 1.6833159923553467, Train Loss_E: 234.80995178222656, Test Loss_AB: 1.6735491752624512, Test Loss_E: 233.8505096435547\n",
            "Epoch 26/250, Train Loss_AB: 1.6437561511993408, Train Loss_E: 232.033935546875, Test Loss_AB: 1.6305885314941406, Test Loss_E: 230.8371124267578\n",
            "Epoch 27/250, Train Loss_AB: 1.6016916036605835, Train Loss_E: 229.0385284423828, Test Loss_AB: 1.5859761238098145, Test Loss_E: 227.66355895996094\n",
            "Epoch 28/250, Train Loss_AB: 1.557905912399292, Train Loss_E: 225.8809051513672, Test Loss_AB: 1.5402588844299316, Test Loss_E: 224.37451171875\n",
            "Epoch 29/250, Train Loss_AB: 1.5129883289337158, Train Loss_E: 222.60629272460938, Test Loss_AB: 1.493719458580017, Test Loss_E: 220.9824981689453\n",
            "Epoch 30/250, Train Loss_AB: 1.467256784439087, Train Loss_E: 219.22509765625, Test Loss_AB: 1.447118878364563, Test Loss_E: 217.51988220214844\n",
            "Epoch 31/250, Train Loss_AB: 1.421468734741211, Train Loss_E: 215.7647705078125, Test Loss_AB: 1.4014227390289307, Test Loss_E: 214.05780029296875\n",
            "Epoch 32/250, Train Loss_AB: 1.3765026330947876, Train Loss_E: 212.28762817382812, Test Loss_AB: 1.3579403162002563, Test Loss_E: 210.736328125\n",
            "Epoch 33/250, Train Loss_AB: 1.3336710929870605, Train Loss_E: 208.93675231933594, Test Loss_AB: 1.3171110153198242, Test Loss_E: 207.63629150390625\n",
            "Epoch 34/250, Train Loss_AB: 1.293350338935852, Train Loss_E: 205.7913055419922, Test Loss_AB: 1.277194619178772, Test Loss_E: 204.59347534179688\n",
            "Epoch 35/250, Train Loss_AB: 1.2538981437683105, Train Loss_E: 202.6933135986328, Test Loss_AB: 1.238478183746338, Test Loss_E: 201.65504455566406\n",
            "Epoch 36/250, Train Loss_AB: 1.215797781944275, Train Loss_E: 199.71434020996094, Test Loss_AB: 1.2018054723739624, Test Loss_E: 198.9767608642578\n",
            "Epoch 37/250, Train Loss_AB: 1.1797823905944824, Train Loss_E: 197.00799560546875, Test Loss_AB: 1.16762375831604, Test Loss_E: 196.58229064941406\n",
            "Epoch 38/250, Train Loss_AB: 1.146193265914917, Train Loss_E: 194.58172607421875, Test Loss_AB: 1.1367249488830566, Test Loss_E: 194.5244903564453\n",
            "Epoch 39/250, Train Loss_AB: 1.1159727573394775, Train Loss_E: 192.5030975341797, Test Loss_AB: 1.1095492839813232, Test Loss_E: 192.9001922607422\n",
            "Epoch 40/250, Train Loss_AB: 1.0893962383270264, Train Loss_E: 190.86090087890625, Test Loss_AB: 1.085037112236023, Test Loss_E: 191.6728515625\n",
            "Epoch 41/250, Train Loss_AB: 1.0653448104858398, Train Loss_E: 189.6182861328125, Test Loss_AB: 1.0622613430023193, Test Loss_E: 190.75949096679688\n",
            "Epoch 42/250, Train Loss_AB: 1.0429972410202026, Train Loss_E: 188.69662475585938, Test Loss_AB: 1.0412757396697998, Test Loss_E: 190.0996551513672\n",
            "Epoch 43/250, Train Loss_AB: 1.0224404335021973, Train Loss_E: 188.0311737060547, Test Loss_AB: 1.02144193649292, Test Loss_E: 189.52796936035156\n",
            "Epoch 44/250, Train Loss_AB: 1.0030337572097778, Train Loss_E: 187.45916748046875, Test Loss_AB: 1.002644419670105, Test Loss_E: 189.00465393066406\n",
            "Epoch 45/250, Train Loss_AB: 0.9846543073654175, Train Loss_E: 186.9367218017578, Test Loss_AB: 0.9846803545951843, Test Loss_E: 188.49261474609375\n",
            "Epoch 46/250, Train Loss_AB: 0.9671155214309692, Train Loss_E: 186.42706298828125, Test Loss_AB: 0.9677183032035828, Test Loss_E: 187.99925231933594\n",
            "Epoch 47/250, Train Loss_AB: 0.950552761554718, Train Loss_E: 185.9383087158203, Test Loss_AB: 0.9515678882598877, Test Loss_E: 187.52621459960938\n",
            "Epoch 48/250, Train Loss_AB: 0.9347086548805237, Train Loss_E: 185.47018432617188, Test Loss_AB: 0.9357070922851562, Test Loss_E: 187.06280517578125\n",
            "Epoch 49/250, Train Loss_AB: 0.9190463423728943, Train Loss_E: 185.0113067626953, Test Loss_AB: 0.9198493361473083, Test Loss_E: 186.60081481933594\n",
            "Epoch 50/250, Train Loss_AB: 0.9033170342445374, Train Loss_E: 184.55372619628906, Test Loss_AB: 0.9036140441894531, Test Loss_E: 186.13638305664062\n",
            "Epoch 51/250, Train Loss_AB: 0.8872058391571045, Train Loss_E: 184.0937957763672, Test Loss_AB: 0.8868969678878784, Test Loss_E: 185.66648864746094\n",
            "Epoch 52/250, Train Loss_AB: 0.8706164360046387, Train Loss_E: 183.62850952148438, Test Loss_AB: 0.8700858950614929, Test Loss_E: 185.1875457763672\n",
            "Epoch 53/250, Train Loss_AB: 0.8539099097251892, Train Loss_E: 183.15455627441406, Test Loss_AB: 0.8534159660339355, Test Loss_E: 184.6944122314453\n",
            "Epoch 54/250, Train Loss_AB: 0.8372941613197327, Train Loss_E: 182.66671752929688, Test Loss_AB: 0.8366971015930176, Test Loss_E: 184.18296813964844\n",
            "Epoch 55/250, Train Loss_AB: 0.8206188678741455, Train Loss_E: 182.16050720214844, Test Loss_AB: 0.8200864195823669, Test Loss_E: 183.65444946289062\n",
            "Epoch 56/250, Train Loss_AB: 0.8039984107017517, Train Loss_E: 181.63746643066406, Test Loss_AB: 0.8035983443260193, Test Loss_E: 183.1081085205078\n",
            "Epoch 57/250, Train Loss_AB: 0.787458598613739, Train Loss_E: 181.09690856933594, Test Loss_AB: 0.787070631980896, Test Loss_E: 182.54324340820312\n",
            "Epoch 58/250, Train Loss_AB: 0.7709669470787048, Train Loss_E: 180.53799438476562, Test Loss_AB: 0.7707679867744446, Test Loss_E: 181.96409606933594\n",
            "Epoch 59/250, Train Loss_AB: 0.7545516490936279, Train Loss_E: 179.9649658203125, Test Loss_AB: 0.7544746398925781, Test Loss_E: 181.3639678955078\n",
            "Epoch 60/250, Train Loss_AB: 0.7382603883743286, Train Loss_E: 179.37118530273438, Test Loss_AB: 0.7389564514160156, Test Loss_E: 180.7476043701172\n",
            "Epoch 61/250, Train Loss_AB: 0.7225707769393921, Train Loss_E: 178.76145935058594, Test Loss_AB: 0.7244764566421509, Test Loss_E: 180.10980224609375\n",
            "Epoch 62/250, Train Loss_AB: 0.70811927318573, Train Loss_E: 178.13052368164062, Test Loss_AB: 0.7119391560554504, Test Loss_E: 179.45875549316406\n",
            "Epoch 63/250, Train Loss_AB: 0.6955129504203796, Train Loss_E: 177.4865264892578, Test Loss_AB: 0.7007614970207214, Test Loss_E: 178.78395080566406\n",
            "Epoch 64/250, Train Loss_AB: 0.6845324635505676, Train Loss_E: 176.8189697265625, Test Loss_AB: 0.6908324956893921, Test Loss_E: 178.09951782226562\n",
            "Epoch 65/250, Train Loss_AB: 0.6746240258216858, Train Loss_E: 176.14195251464844, Test Loss_AB: 0.6824095845222473, Test Loss_E: 177.39337158203125\n",
            "Epoch 66/250, Train Loss_AB: 0.6663389801979065, Train Loss_E: 175.44345092773438, Test Loss_AB: 0.6747873425483704, Test Loss_E: 176.6632080078125\n",
            "Epoch 67/250, Train Loss_AB: 0.6589038372039795, Train Loss_E: 174.7211456298828, Test Loss_AB: 0.6678456664085388, Test Loss_E: 175.91795349121094\n",
            "Epoch 68/250, Train Loss_AB: 0.6521408557891846, Train Loss_E: 173.9839324951172, Test Loss_AB: 0.661308228969574, Test Loss_E: 175.15692138671875\n",
            "Epoch 69/250, Train Loss_AB: 0.6457869410514832, Train Loss_E: 173.2311553955078, Test Loss_AB: 0.6552810668945312, Test Loss_E: 174.37445068359375\n",
            "Epoch 70/250, Train Loss_AB: 0.6399602293968201, Train Loss_E: 172.45713806152344, Test Loss_AB: 0.6493655443191528, Test Loss_E: 173.56761169433594\n",
            "Epoch 71/250, Train Loss_AB: 0.6342554688453674, Train Loss_E: 171.658935546875, Test Loss_AB: 0.6436713933944702, Test Loss_E: 172.73660278320312\n",
            "Epoch 72/250, Train Loss_AB: 0.6287801265716553, Train Loss_E: 170.83680725097656, Test Loss_AB: 0.6381768584251404, Test Loss_E: 171.88311767578125\n",
            "Epoch 73/250, Train Loss_AB: 0.6235088109970093, Train Loss_E: 169.99241638183594, Test Loss_AB: 0.6327322721481323, Test Loss_E: 171.00665283203125\n",
            "Epoch 74/250, Train Loss_AB: 0.6182892918586731, Train Loss_E: 169.12521362304688, Test Loss_AB: 0.6273261308670044, Test Loss_E: 170.10418701171875\n",
            "Epoch 75/250, Train Loss_AB: 0.613111674785614, Train Loss_E: 168.23228454589844, Test Loss_AB: 0.6219969391822815, Test Loss_E: 169.17369079589844\n",
            "Epoch 76/250, Train Loss_AB: 0.6080156564712524, Train Loss_E: 167.31149291992188, Test Loss_AB: 0.6167091131210327, Test Loss_E: 168.20965576171875\n",
            "Epoch 77/250, Train Loss_AB: 0.602968156337738, Train Loss_E: 166.35740661621094, Test Loss_AB: 0.6114287376403809, Test Loss_E: 167.2075653076172\n",
            "Epoch 78/250, Train Loss_AB: 0.5979362726211548, Train Loss_E: 165.36550903320312, Test Loss_AB: 0.6062275171279907, Test Loss_E: 166.17617797851562\n",
            "Epoch 79/250, Train Loss_AB: 0.5929899215698242, Train Loss_E: 164.3447723388672, Test Loss_AB: 0.6013398170471191, Test Loss_E: 165.16644287109375\n",
            "Epoch 80/250, Train Loss_AB: 0.5883509516716003, Train Loss_E: 163.34559631347656, Test Loss_AB: 0.5965927243232727, Test Loss_E: 164.19187927246094\n",
            "Epoch 81/250, Train Loss_AB: 0.5838392972946167, Train Loss_E: 162.3814697265625, Test Loss_AB: 0.5915808081626892, Test Loss_E: 163.14083862304688\n",
            "Epoch 82/250, Train Loss_AB: 0.5790787935256958, Train Loss_E: 161.3410186767578, Test Loss_AB: 0.5868842601776123, Test Loss_E: 162.0930633544922\n",
            "Epoch 83/250, Train Loss_AB: 0.5746369957923889, Train Loss_E: 160.30467224121094, Test Loss_AB: 0.5822486281394958, Test Loss_E: 161.04043579101562\n",
            "Epoch 84/250, Train Loss_AB: 0.5702574253082275, Train Loss_E: 159.26353454589844, Test Loss_AB: 0.5775254368782043, Test Loss_E: 159.9478759765625\n",
            "Epoch 85/250, Train Loss_AB: 0.5657970905303955, Train Loss_E: 158.18234252929688, Test Loss_AB: 0.5729294419288635, Test Loss_E: 158.8261260986328\n",
            "Epoch 86/250, Train Loss_AB: 0.5614678859710693, Train Loss_E: 157.07162475585938, Test Loss_AB: 0.568660318851471, Test Loss_E: 157.71031188964844\n",
            "Epoch 87/250, Train Loss_AB: 0.557459831237793, Train Loss_E: 155.9664306640625, Test Loss_AB: 0.5644109845161438, Test Loss_E: 156.57974243164062\n",
            "Epoch 88/250, Train Loss_AB: 0.5534775257110596, Train Loss_E: 154.8475341796875, Test Loss_AB: 0.5602505803108215, Test Loss_E: 155.45855712890625\n",
            "Epoch 89/250, Train Loss_AB: 0.5495820045471191, Train Loss_E: 153.73849487304688, Test Loss_AB: 0.5563530921936035, Test Loss_E: 154.3502197265625\n",
            "Epoch 90/250, Train Loss_AB: 0.5459406971931458, Train Loss_E: 152.64158630371094, Test Loss_AB: 0.5525183081626892, Test Loss_E: 153.19589233398438\n",
            "Epoch 91/250, Train Loss_AB: 0.54236900806427, Train Loss_E: 151.4989471435547, Test Loss_AB: 0.5488082766532898, Test Loss_E: 152.0193328857422\n",
            "Epoch 92/250, Train Loss_AB: 0.5389240980148315, Train Loss_E: 150.33517456054688, Test Loss_AB: 0.5454111695289612, Test Loss_E: 150.89048767089844\n",
            "Epoch 93/250, Train Loss_AB: 0.5357770919799805, Train Loss_E: 149.21847534179688, Test Loss_AB: 0.5420430898666382, Test Loss_E: 149.72010803222656\n",
            "Epoch 94/250, Train Loss_AB: 0.5326699614524841, Train Loss_E: 148.0591583251953, Test Loss_AB: 0.538990318775177, Test Loss_E: 148.59901428222656\n",
            "Epoch 95/250, Train Loss_AB: 0.5298671722412109, Train Loss_E: 146.94964599609375, Test Loss_AB: 0.536146342754364, Test Loss_E: 147.49490356445312\n",
            "Epoch 96/250, Train Loss_AB: 0.5272637009620667, Train Loss_E: 145.8571319580078, Test Loss_AB: 0.5335063338279724, Test Loss_E: 146.4141387939453\n",
            "Epoch 97/250, Train Loss_AB: 0.5248523950576782, Train Loss_E: 144.7867431640625, Test Loss_AB: 0.5311377048492432, Test Loss_E: 145.39340209960938\n",
            "Epoch 98/250, Train Loss_AB: 0.5227010250091553, Train Loss_E: 143.77735900878906, Test Loss_AB: 0.5289502739906311, Test Loss_E: 144.3998260498047\n",
            "Epoch 99/250, Train Loss_AB: 0.5207282304763794, Train Loss_E: 142.79640197753906, Test Loss_AB: 0.5270081162452698, Test Loss_E: 143.4693603515625\n",
            "Epoch 100/250, Train Loss_AB: 0.5189797282218933, Train Loss_E: 141.87637329101562, Test Loss_AB: 0.5252050161361694, Test Loss_E: 142.55467224121094\n",
            "Epoch 101/250, Train Loss_AB: 0.5173665285110474, Train Loss_E: 140.9734344482422, Test Loss_AB: 0.5235986113548279, Test Loss_E: 141.68487548828125\n",
            "Epoch 102/250, Train Loss_AB: 0.515939474105835, Train Loss_E: 140.1158905029297, Test Loss_AB: 0.5220799446105957, Test Loss_E: 140.81639099121094\n",
            "Epoch 103/250, Train Loss_AB: 0.5145954489707947, Train Loss_E: 139.25772094726562, Test Loss_AB: 0.520740807056427, Test Loss_E: 140.00857543945312\n",
            "Epoch 104/250, Train Loss_AB: 0.5134174227714539, Train Loss_E: 138.45989990234375, Test Loss_AB: 0.519541323184967, Test Loss_E: 139.2354278564453\n",
            "Epoch 105/250, Train Loss_AB: 0.5123713612556458, Train Loss_E: 137.69760131835938, Test Loss_AB: 0.5184525847434998, Test Loss_E: 138.4777374267578\n",
            "Epoch 106/250, Train Loss_AB: 0.5114312171936035, Train Loss_E: 136.95094299316406, Test Loss_AB: 0.5174986720085144, Test Loss_E: 137.7635498046875\n",
            "Epoch 107/250, Train Loss_AB: 0.510614812374115, Train Loss_E: 136.2471923828125, Test Loss_AB: 0.5166506171226501, Test Loss_E: 137.10861206054688\n",
            "Epoch 108/250, Train Loss_AB: 0.5098917484283447, Train Loss_E: 135.60150146484375, Test Loss_AB: 0.5158930420875549, Test Loss_E: 136.5080108642578\n",
            "Epoch 109/250, Train Loss_AB: 0.5092484951019287, Train Loss_E: 135.0092315673828, Test Loss_AB: 0.5152416825294495, Test Loss_E: 135.95230102539062\n",
            "Epoch 110/250, Train Loss_AB: 0.5087015628814697, Train Loss_E: 134.46127319335938, Test Loss_AB: 0.5146659016609192, Test Loss_E: 135.42193603515625\n",
            "Epoch 111/250, Train Loss_AB: 0.5082238912582397, Train Loss_E: 133.93821716308594, Test Loss_AB: 0.5141544938087463, Test Loss_E: 134.92283630371094\n",
            "Epoch 112/250, Train Loss_AB: 0.5078037977218628, Train Loss_E: 133.44618225097656, Test Loss_AB: 0.5137138962745667, Test Loss_E: 134.47393798828125\n",
            "Epoch 113/250, Train Loss_AB: 0.5074446201324463, Train Loss_E: 133.00363159179688, Test Loss_AB: 0.5133239030838013, Test Loss_E: 134.0645751953125\n",
            "Epoch 114/250, Train Loss_AB: 0.5071279406547546, Train Loss_E: 132.59962463378906, Test Loss_AB: 0.5129715204238892, Test Loss_E: 133.68502807617188\n",
            "Epoch 115/250, Train Loss_AB: 0.5068425536155701, Train Loss_E: 132.2247772216797, Test Loss_AB: 0.5126650929450989, Test Loss_E: 133.34544372558594\n",
            "Epoch 116/250, Train Loss_AB: 0.506595253944397, Train Loss_E: 131.88934326171875, Test Loss_AB: 0.5123968124389648, Test Loss_E: 133.03900146484375\n",
            "Epoch 117/250, Train Loss_AB: 0.5063797235488892, Train Loss_E: 131.5865936279297, Test Loss_AB: 0.5121586322784424, Test Loss_E: 132.75741577148438\n",
            "Epoch 118/250, Train Loss_AB: 0.5061895847320557, Train Loss_E: 131.308349609375, Test Loss_AB: 0.5119470357894897, Test Loss_E: 132.49830627441406\n",
            "Epoch 119/250, Train Loss_AB: 0.5060218572616577, Train Loss_E: 131.0522003173828, Test Loss_AB: 0.5117588639259338, Test Loss_E: 132.26156616210938\n",
            "Epoch 120/250, Train Loss_AB: 0.5058735609054565, Train Loss_E: 130.81805419921875, Test Loss_AB: 0.5115903615951538, Test Loss_E: 132.04669189453125\n",
            "Epoch 121/250, Train Loss_AB: 0.5057410001754761, Train Loss_E: 130.6054229736328, Test Loss_AB: 0.5114381313323975, Test Loss_E: 131.8525390625\n",
            "Epoch 122/250, Train Loss_AB: 0.505621075630188, Train Loss_E: 130.41323852539062, Test Loss_AB: 0.5113002061843872, Test Loss_E: 131.67633056640625\n",
            "Epoch 123/250, Train Loss_AB: 0.5055123567581177, Train Loss_E: 130.23876953125, Test Loss_AB: 0.5111752152442932, Test Loss_E: 131.5154266357422\n",
            "Epoch 124/250, Train Loss_AB: 0.5054137706756592, Train Loss_E: 130.07940673828125, Test Loss_AB: 0.5110617280006409, Test Loss_E: 131.36724853515625\n",
            "Epoch 125/250, Train Loss_AB: 0.5053244829177856, Train Loss_E: 129.93258666992188, Test Loss_AB: 0.5109577775001526, Test Loss_E: 131.23019409179688\n",
            "Epoch 126/250, Train Loss_AB: 0.5052427053451538, Train Loss_E: 129.7967529296875, Test Loss_AB: 0.5108620524406433, Test Loss_E: 131.1033172607422\n",
            "Epoch 127/250, Train Loss_AB: 0.5051673650741577, Train Loss_E: 129.67095947265625, Test Loss_AB: 0.5107735395431519, Test Loss_E: 130.9859619140625\n",
            "Epoch 128/250, Train Loss_AB: 0.5050978064537048, Train Loss_E: 129.55459594726562, Test Loss_AB: 0.5106918215751648, Test Loss_E: 130.8778076171875\n",
            "Epoch 129/250, Train Loss_AB: 0.5050334334373474, Train Loss_E: 129.44735717773438, Test Loss_AB: 0.5106163024902344, Test Loss_E: 130.7784423828125\n",
            "Epoch 130/250, Train Loss_AB: 0.5049737691879272, Train Loss_E: 129.3488311767578, Test Loss_AB: 0.5105464458465576, Test Loss_E: 130.6875\n",
            "Epoch 131/250, Train Loss_AB: 0.5049183368682861, Train Loss_E: 129.25865173339844, Test Loss_AB: 0.5104814767837524, Test Loss_E: 130.60440063476562\n",
            "Epoch 132/250, Train Loss_AB: 0.5048666000366211, Train Loss_E: 129.17623901367188, Test Loss_AB: 0.5104208588600159, Test Loss_E: 130.52865600585938\n",
            "Epoch 133/250, Train Loss_AB: 0.5048180222511292, Train Loss_E: 129.10108947753906, Test Loss_AB: 0.510364294052124, Test Loss_E: 130.45947265625\n",
            "Epoch 134/250, Train Loss_AB: 0.504772424697876, Train Loss_E: 129.03248596191406, Test Loss_AB: 0.5103113651275635, Test Loss_E: 130.39622497558594\n",
            "Epoch 135/250, Train Loss_AB: 0.5047295689582825, Train Loss_E: 128.96975708007812, Test Loss_AB: 0.5102618932723999, Test Loss_E: 130.33816528320312\n",
            "Epoch 136/250, Train Loss_AB: 0.5046892166137695, Train Loss_E: 128.91213989257812, Test Loss_AB: 0.5102154612541199, Test Loss_E: 130.2845916748047\n",
            "Epoch 137/250, Train Loss_AB: 0.5046511888504028, Train Loss_E: 128.85897827148438, Test Loss_AB: 0.5101717114448547, Test Loss_E: 130.23492431640625\n",
            "Epoch 138/250, Train Loss_AB: 0.5046153664588928, Train Loss_E: 128.8096923828125, Test Loss_AB: 0.5101304054260254, Test Loss_E: 130.18862915039062\n",
            "Epoch 139/250, Train Loss_AB: 0.5045813918113708, Train Loss_E: 128.76376342773438, Test Loss_AB: 0.510091245174408, Test Loss_E: 130.1453094482422\n",
            "Epoch 140/250, Train Loss_AB: 0.5045492053031921, Train Loss_E: 128.72076416015625, Test Loss_AB: 0.5100542306900024, Test Loss_E: 130.10472106933594\n",
            "Epoch 141/250, Train Loss_AB: 0.5045186877250671, Train Loss_E: 128.68045043945312, Test Loss_AB: 0.5100191831588745, Test Loss_E: 130.06666564941406\n",
            "Epoch 142/250, Train Loss_AB: 0.5044896006584167, Train Loss_E: 128.64263916015625, Test Loss_AB: 0.5099859237670898, Test Loss_E: 130.0309600830078\n",
            "Epoch 143/250, Train Loss_AB: 0.5044620633125305, Train Loss_E: 128.60716247558594, Test Loss_AB: 0.5099542140960693, Test Loss_E: 129.99749755859375\n",
            "Epoch 144/250, Train Loss_AB: 0.5044355988502502, Train Loss_E: 128.5739288330078, Test Loss_AB: 0.5099239945411682, Test Loss_E: 129.9661865234375\n",
            "Epoch 145/250, Train Loss_AB: 0.5044103860855103, Train Loss_E: 128.5428009033203, Test Loss_AB: 0.5098952651023865, Test Loss_E: 129.93685913085938\n",
            "Epoch 146/250, Train Loss_AB: 0.5043862462043762, Train Loss_E: 128.51364135742188, Test Loss_AB: 0.509867787361145, Test Loss_E: 129.90940856933594\n",
            "Epoch 147/250, Train Loss_AB: 0.5043631196022034, Train Loss_E: 128.48631286621094, Test Loss_AB: 0.5098414421081543, Test Loss_E: 129.88360595703125\n",
            "Epoch 148/250, Train Loss_AB: 0.5043408870697021, Train Loss_E: 128.46066284179688, Test Loss_AB: 0.5098162889480591, Test Loss_E: 129.8592071533203\n",
            "Epoch 149/250, Train Loss_AB: 0.5043194890022278, Train Loss_E: 128.43637084960938, Test Loss_AB: 0.5097920894622803, Test Loss_E: 129.8360595703125\n",
            "Epoch 150/250, Train Loss_AB: 0.5042988657951355, Train Loss_E: 128.41334533691406, Test Loss_AB: 0.5097687840461731, Test Loss_E: 129.81405639648438\n",
            "Epoch 151/250, Train Loss_AB: 0.5042790770530701, Train Loss_E: 128.39144897460938, Test Loss_AB: 0.5097463726997375, Test Loss_E: 129.79307556152344\n",
            "Epoch 152/250, Train Loss_AB: 0.5042598843574524, Train Loss_E: 128.3705596923828, Test Loss_AB: 0.5097247958183289, Test Loss_E: 129.7729949951172\n",
            "Epoch 153/250, Train Loss_AB: 0.5042414665222168, Train Loss_E: 128.35060119628906, Test Loss_AB: 0.5097039937973022, Test Loss_E: 129.75375366210938\n",
            "Epoch 154/250, Train Loss_AB: 0.5042235851287842, Train Loss_E: 128.33145141601562, Test Loss_AB: 0.5096838474273682, Test Loss_E: 129.7352752685547\n",
            "Epoch 155/250, Train Loss_AB: 0.5042062401771545, Train Loss_E: 128.31304931640625, Test Loss_AB: 0.5096642374992371, Test Loss_E: 129.7174835205078\n",
            "Epoch 156/250, Train Loss_AB: 0.5041894316673279, Train Loss_E: 128.2953643798828, Test Loss_AB: 0.5096452832221985, Test Loss_E: 129.7003936767578\n",
            "Epoch 157/250, Train Loss_AB: 0.5041730999946594, Train Loss_E: 128.27835083007812, Test Loss_AB: 0.5096269249916077, Test Loss_E: 129.68389892578125\n",
            "Epoch 158/250, Train Loss_AB: 0.5041571855545044, Train Loss_E: 128.26194763183594, Test Loss_AB: 0.5096089839935303, Test Loss_E: 129.6680450439453\n",
            "Epoch 159/250, Train Loss_AB: 0.5041417479515076, Train Loss_E: 128.24618530273438, Test Loss_AB: 0.5095915794372559, Test Loss_E: 129.65277099609375\n",
            "Epoch 160/250, Train Loss_AB: 0.5041266083717346, Train Loss_E: 128.23098754882812, Test Loss_AB: 0.5095745921134949, Test Loss_E: 129.63804626464844\n",
            "Epoch 161/250, Train Loss_AB: 0.5041118860244751, Train Loss_E: 128.2163543701172, Test Loss_AB: 0.5095580220222473, Test Loss_E: 129.62387084960938\n",
            "Epoch 162/250, Train Loss_AB: 0.5040974020957947, Train Loss_E: 128.2022705078125, Test Loss_AB: 0.5095418691635132, Test Loss_E: 129.61021423339844\n",
            "Epoch 163/250, Train Loss_AB: 0.5040833353996277, Train Loss_E: 128.18869018554688, Test Loss_AB: 0.5095260143280029, Test Loss_E: 129.5970458984375\n",
            "Epoch 164/250, Train Loss_AB: 0.504069447517395, Train Loss_E: 128.1756134033203, Test Loss_AB: 0.5095105767250061, Test Loss_E: 129.5843505859375\n",
            "Epoch 165/250, Train Loss_AB: 0.5040558576583862, Train Loss_E: 128.1630096435547, Test Loss_AB: 0.5094953775405884, Test Loss_E: 129.57211303710938\n",
            "Epoch 166/250, Train Loss_AB: 0.5040425062179565, Train Loss_E: 128.15084838867188, Test Loss_AB: 0.5094804167747498, Test Loss_E: 129.56027221679688\n",
            "Epoch 167/250, Train Loss_AB: 0.5040293335914612, Train Loss_E: 128.13909912109375, Test Loss_AB: 0.509465754032135, Test Loss_E: 129.54884338378906\n",
            "Epoch 168/250, Train Loss_AB: 0.5040163397789001, Train Loss_E: 128.1277313232422, Test Loss_AB: 0.5094512701034546, Test Loss_E: 129.5377960205078\n",
            "Epoch 169/250, Train Loss_AB: 0.5040035247802734, Train Loss_E: 128.11676025390625, Test Loss_AB: 0.5094370245933533, Test Loss_E: 129.52708435058594\n",
            "Epoch 170/250, Train Loss_AB: 0.5039908289909363, Train Loss_E: 128.1061248779297, Test Loss_AB: 0.509423017501831, Test Loss_E: 129.51669311523438\n",
            "Epoch 171/250, Train Loss_AB: 0.5039783716201782, Train Loss_E: 128.09580993652344, Test Loss_AB: 0.5094091296195984, Test Loss_E: 129.50662231445312\n",
            "Epoch 172/250, Train Loss_AB: 0.5039659142494202, Train Loss_E: 128.0858154296875, Test Loss_AB: 0.5093954205513, Test Loss_E: 129.49684143066406\n",
            "Epoch 173/250, Train Loss_AB: 0.5039536952972412, Train Loss_E: 128.0760955810547, Test Loss_AB: 0.509381890296936, Test Loss_E: 129.48733520507812\n",
            "Epoch 174/250, Train Loss_AB: 0.5039414763450623, Train Loss_E: 128.06666564941406, Test Loss_AB: 0.5093684196472168, Test Loss_E: 129.47808837890625\n",
            "Epoch 175/250, Train Loss_AB: 0.5039293766021729, Train Loss_E: 128.0574951171875, Test Loss_AB: 0.5093550682067871, Test Loss_E: 129.46908569335938\n",
            "Epoch 176/250, Train Loss_AB: 0.5039173364639282, Train Loss_E: 128.04856872558594, Test Loss_AB: 0.509341835975647, Test Loss_E: 129.4603271484375\n",
            "Epoch 177/250, Train Loss_AB: 0.5039054155349731, Train Loss_E: 128.0398712158203, Test Loss_AB: 0.5093287825584412, Test Loss_E: 129.45181274414062\n",
            "Epoch 178/250, Train Loss_AB: 0.5038934946060181, Train Loss_E: 128.03143310546875, Test Loss_AB: 0.5093157291412354, Test Loss_E: 129.44351196289062\n",
            "Epoch 179/250, Train Loss_AB: 0.5038816332817078, Train Loss_E: 128.02322387695312, Test Loss_AB: 0.5093028545379639, Test Loss_E: 129.43545532226562\n",
            "Epoch 180/250, Train Loss_AB: 0.503869891166687, Train Loss_E: 128.01519775390625, Test Loss_AB: 0.5092899203300476, Test Loss_E: 129.42758178710938\n",
            "Epoch 181/250, Train Loss_AB: 0.5038581490516663, Train Loss_E: 128.0074005126953, Test Loss_AB: 0.5092771053314209, Test Loss_E: 129.41993713378906\n",
            "Epoch 182/250, Train Loss_AB: 0.5038464069366455, Train Loss_E: 127.99980926513672, Test Loss_AB: 0.5092642903327942, Test Loss_E: 129.4124755859375\n",
            "Epoch 183/250, Train Loss_AB: 0.5038347244262695, Train Loss_E: 127.992431640625, Test Loss_AB: 0.5092516541481018, Test Loss_E: 129.4052276611328\n",
            "Epoch 184/250, Train Loss_AB: 0.5038231015205383, Train Loss_E: 127.98523712158203, Test Loss_AB: 0.5092389583587646, Test Loss_E: 129.39816284179688\n",
            "Epoch 185/250, Train Loss_AB: 0.5038114786148071, Train Loss_E: 127.97824096679688, Test Loss_AB: 0.5092263221740723, Test Loss_E: 129.39129638671875\n",
            "Epoch 186/250, Train Loss_AB: 0.5037997961044312, Train Loss_E: 127.97142791748047, Test Loss_AB: 0.5092136859893799, Test Loss_E: 129.38461303710938\n",
            "Epoch 187/250, Train Loss_AB: 0.5037882328033447, Train Loss_E: 127.96479797363281, Test Loss_AB: 0.5092011094093323, Test Loss_E: 129.37811279296875\n",
            "Epoch 188/250, Train Loss_AB: 0.5037766098976135, Train Loss_E: 127.95835876464844, Test Loss_AB: 0.5091885924339294, Test Loss_E: 129.3717803955078\n",
            "Epoch 189/250, Train Loss_AB: 0.5037649869918823, Train Loss_E: 127.95207214355469, Test Loss_AB: 0.5091760158538818, Test Loss_E: 129.3656005859375\n",
            "Epoch 190/250, Train Loss_AB: 0.5037533044815063, Train Loss_E: 127.94596099853516, Test Loss_AB: 0.5091634392738342, Test Loss_E: 129.35960388183594\n",
            "Epoch 191/250, Train Loss_AB: 0.5037416815757751, Train Loss_E: 127.94001770019531, Test Loss_AB: 0.5091508626937866, Test Loss_E: 129.353759765625\n",
            "Epoch 192/250, Train Loss_AB: 0.5037299990653992, Train Loss_E: 127.93421936035156, Test Loss_AB: 0.5091383457183838, Test Loss_E: 129.3480682373047\n",
            "Epoch 193/250, Train Loss_AB: 0.5037182569503784, Train Loss_E: 127.92858123779297, Test Loss_AB: 0.5091256499290466, Test Loss_E: 129.34251403808594\n",
            "Epoch 194/250, Train Loss_AB: 0.5037065148353577, Train Loss_E: 127.92308044433594, Test Loss_AB: 0.509113073348999, Test Loss_E: 129.3371124267578\n",
            "Epoch 195/250, Train Loss_AB: 0.5036947727203369, Train Loss_E: 127.91771697998047, Test Loss_AB: 0.5091004371643066, Test Loss_E: 129.33184814453125\n",
            "Epoch 196/250, Train Loss_AB: 0.5036829710006714, Train Loss_E: 127.91250610351562, Test Loss_AB: 0.509087860584259, Test Loss_E: 129.3267059326172\n",
            "Epoch 197/250, Train Loss_AB: 0.5036712288856506, Train Loss_E: 127.90742492675781, Test Loss_AB: 0.5090753436088562, Test Loss_E: 129.3217010498047\n",
            "Epoch 198/250, Train Loss_AB: 0.5036594271659851, Train Loss_E: 127.90245056152344, Test Loss_AB: 0.5090625882148743, Test Loss_E: 129.3168182373047\n",
            "Epoch 199/250, Train Loss_AB: 0.5036476254463196, Train Loss_E: 127.8976058959961, Test Loss_AB: 0.5090499520301819, Test Loss_E: 129.3120574951172\n",
            "Epoch 200/250, Train Loss_AB: 0.5036357045173645, Train Loss_E: 127.89289093017578, Test Loss_AB: 0.5090371966362, Test Loss_E: 129.30740356445312\n",
            "Epoch 201/250, Train Loss_AB: 0.5036238431930542, Train Loss_E: 127.8882827758789, Test Loss_AB: 0.509024441242218, Test Loss_E: 129.3028564453125\n",
            "Epoch 202/250, Train Loss_AB: 0.5036119222640991, Train Loss_E: 127.88377380371094, Test Loss_AB: 0.5090117454528809, Test Loss_E: 129.29843139648438\n",
            "Epoch 203/250, Train Loss_AB: 0.503600001335144, Train Loss_E: 127.8793716430664, Test Loss_AB: 0.5089990496635437, Test Loss_E: 129.29409790039062\n",
            "Epoch 204/250, Train Loss_AB: 0.503588080406189, Train Loss_E: 127.87509155273438, Test Loss_AB: 0.5089862942695618, Test Loss_E: 129.2898712158203\n",
            "Epoch 205/250, Train Loss_AB: 0.5035760402679443, Train Loss_E: 127.87090301513672, Test Loss_AB: 0.5089734792709351, Test Loss_E: 129.28573608398438\n",
            "Epoch 206/250, Train Loss_AB: 0.5035640597343445, Train Loss_E: 127.86681365966797, Test Loss_AB: 0.5089607238769531, Test Loss_E: 129.28170776367188\n",
            "Epoch 207/250, Train Loss_AB: 0.5035520195960999, Train Loss_E: 127.8628158569336, Test Loss_AB: 0.5089479684829712, Test Loss_E: 129.27777099609375\n",
            "Epoch 208/250, Train Loss_AB: 0.5035400390625, Train Loss_E: 127.8589096069336, Test Loss_AB: 0.5089350938796997, Test Loss_E: 129.27391052246094\n",
            "Epoch 209/250, Train Loss_AB: 0.5035279989242554, Train Loss_E: 127.85509490966797, Test Loss_AB: 0.5089222192764282, Test Loss_E: 129.27015686035156\n",
            "Epoch 210/250, Train Loss_AB: 0.5035159587860107, Train Loss_E: 127.85134887695312, Test Loss_AB: 0.5089094042778015, Test Loss_E: 129.26646423339844\n",
            "Epoch 211/250, Train Loss_AB: 0.5035039186477661, Train Loss_E: 127.84770202636719, Test Loss_AB: 0.5088965892791748, Test Loss_E: 129.26287841796875\n",
            "Epoch 212/250, Train Loss_AB: 0.5034918785095215, Train Loss_E: 127.84412384033203, Test Loss_AB: 0.5088837146759033, Test Loss_E: 129.25933837890625\n",
            "Epoch 213/250, Train Loss_AB: 0.5034798979759216, Train Loss_E: 127.84063720703125, Test Loss_AB: 0.5088708996772766, Test Loss_E: 129.2559051513672\n",
            "Epoch 214/250, Train Loss_AB: 0.5034679174423218, Train Loss_E: 127.83722686767578, Test Loss_AB: 0.5088580846786499, Test Loss_E: 129.25253295898438\n",
            "Epoch 215/250, Train Loss_AB: 0.5034558773040771, Train Loss_E: 127.83389282226562, Test Loss_AB: 0.5088452696800232, Test Loss_E: 129.24923706054688\n",
            "Epoch 216/250, Train Loss_AB: 0.5034438967704773, Train Loss_E: 127.83063507080078, Test Loss_AB: 0.508832573890686, Test Loss_E: 129.2460174560547\n",
            "Epoch 217/250, Train Loss_AB: 0.503432035446167, Train Loss_E: 127.82743835449219, Test Loss_AB: 0.5088198184967041, Test Loss_E: 129.24285888671875\n",
            "Epoch 218/250, Train Loss_AB: 0.5034201741218567, Train Loss_E: 127.82431030273438, Test Loss_AB: 0.5088071227073669, Test Loss_E: 129.2397918701172\n",
            "Epoch 219/250, Train Loss_AB: 0.5034082531929016, Train Loss_E: 127.82125091552734, Test Loss_AB: 0.5087944269180298, Test Loss_E: 129.2367706298828\n",
            "Epoch 220/250, Train Loss_AB: 0.5033965110778809, Train Loss_E: 127.8182601928711, Test Loss_AB: 0.5087817907333374, Test Loss_E: 129.2338104248047\n",
            "Epoch 221/250, Train Loss_AB: 0.5033847689628601, Train Loss_E: 127.8153305053711, Test Loss_AB: 0.5087692141532898, Test Loss_E: 129.2309112548828\n",
            "Epoch 222/250, Train Loss_AB: 0.5033730864524841, Train Loss_E: 127.81246948242188, Test Loss_AB: 0.5087568163871765, Test Loss_E: 129.22808837890625\n",
            "Epoch 223/250, Train Loss_AB: 0.5033615231513977, Train Loss_E: 127.80965423583984, Test Loss_AB: 0.5087443590164185, Test Loss_E: 129.2252960205078\n",
            "Epoch 224/250, Train Loss_AB: 0.5033499002456665, Train Loss_E: 127.8069076538086, Test Loss_AB: 0.5087319612503052, Test Loss_E: 129.22259521484375\n",
            "Epoch 225/250, Train Loss_AB: 0.5033385157585144, Train Loss_E: 127.80422973632812, Test Loss_AB: 0.5087196230888367, Test Loss_E: 129.21994018554688\n",
            "Epoch 226/250, Train Loss_AB: 0.5033271908760071, Train Loss_E: 127.80158233642578, Test Loss_AB: 0.5087074041366577, Test Loss_E: 129.2173309326172\n",
            "Epoch 227/250, Train Loss_AB: 0.5033158659934998, Train Loss_E: 127.79900360107422, Test Loss_AB: 0.5086953639984131, Test Loss_E: 129.21478271484375\n",
            "Epoch 228/250, Train Loss_AB: 0.5033047199249268, Train Loss_E: 127.79647064208984, Test Loss_AB: 0.5086833834648132, Test Loss_E: 129.21226501464844\n",
            "Epoch 229/250, Train Loss_AB: 0.5032937526702881, Train Loss_E: 127.79398345947266, Test Loss_AB: 0.5086715221405029, Test Loss_E: 129.20982360839844\n",
            "Epoch 230/250, Train Loss_AB: 0.5032827854156494, Train Loss_E: 127.79156494140625, Test Loss_AB: 0.5086597204208374, Test Loss_E: 129.20742797851562\n",
            "Epoch 231/250, Train Loss_AB: 0.5032719373703003, Train Loss_E: 127.78917694091797, Test Loss_AB: 0.508648157119751, Test Loss_E: 129.20506286621094\n",
            "Epoch 232/250, Train Loss_AB: 0.5032612681388855, Train Loss_E: 127.78683471679688, Test Loss_AB: 0.5086366534233093, Test Loss_E: 129.2027587890625\n",
            "Epoch 233/250, Train Loss_AB: 0.5032507181167603, Train Loss_E: 127.7845458984375, Test Loss_AB: 0.508625328540802, Test Loss_E: 129.2004852294922\n",
            "Epoch 234/250, Train Loss_AB: 0.5032402873039246, Train Loss_E: 127.78229522705078, Test Loss_AB: 0.508614182472229, Test Loss_E: 129.19825744628906\n",
            "Epoch 235/250, Train Loss_AB: 0.5032300353050232, Train Loss_E: 127.78010559082031, Test Loss_AB: 0.5086032748222351, Test Loss_E: 129.1960906982422\n",
            "Epoch 236/250, Train Loss_AB: 0.5032199621200562, Train Loss_E: 127.77793884277344, Test Loss_AB: 0.508592426776886, Test Loss_E: 129.19393920898438\n",
            "Epoch 237/250, Train Loss_AB: 0.5032100081443787, Train Loss_E: 127.77582550048828, Test Loss_AB: 0.5085819363594055, Test Loss_E: 129.1918487548828\n",
            "Epoch 238/250, Train Loss_AB: 0.503200352191925, Train Loss_E: 127.77375030517578, Test Loss_AB: 0.5085716247558594, Test Loss_E: 129.18978881835938\n",
            "Epoch 239/250, Train Loss_AB: 0.503190815448761, Train Loss_E: 127.7717056274414, Test Loss_AB: 0.5085614919662476, Test Loss_E: 129.18777465820312\n",
            "Epoch 240/250, Train Loss_AB: 0.5031813979148865, Train Loss_E: 127.76970672607422, Test Loss_AB: 0.5085514187812805, Test Loss_E: 129.18577575683594\n",
            "Epoch 241/250, Train Loss_AB: 0.5031721591949463, Train Loss_E: 127.7677230834961, Test Loss_AB: 0.5085416436195374, Test Loss_E: 129.18385314941406\n",
            "Epoch 242/250, Train Loss_AB: 0.5031630992889404, Train Loss_E: 127.76580810546875, Test Loss_AB: 0.5085320472717285, Test Loss_E: 129.1819305419922\n",
            "Epoch 243/250, Train Loss_AB: 0.5031542181968689, Train Loss_E: 127.763916015625, Test Loss_AB: 0.5085227489471436, Test Loss_E: 129.18006896972656\n",
            "Epoch 244/250, Train Loss_AB: 0.5031455755233765, Train Loss_E: 127.76205444335938, Test Loss_AB: 0.5085135102272034, Test Loss_E: 129.17822265625\n",
            "Epoch 245/250, Train Loss_AB: 0.5031370520591736, Train Loss_E: 127.76022338867188, Test Loss_AB: 0.5085045099258423, Test Loss_E: 129.17640686035156\n",
            "Epoch 246/250, Train Loss_AB: 0.5031286478042603, Train Loss_E: 127.7584228515625, Test Loss_AB: 0.5084956884384155, Test Loss_E: 129.17462158203125\n",
            "Epoch 247/250, Train Loss_AB: 0.5031203627586365, Train Loss_E: 127.75666809082031, Test Loss_AB: 0.5084871053695679, Test Loss_E: 129.1728973388672\n",
            "Epoch 248/250, Train Loss_AB: 0.5031123757362366, Train Loss_E: 127.75493621826172, Test Loss_AB: 0.5084787011146545, Test Loss_E: 129.1711883544922\n",
            "Epoch 249/250, Train Loss_AB: 0.5031045079231262, Train Loss_E: 127.75323486328125, Test Loss_AB: 0.5084705352783203, Test Loss_E: 129.16949462890625\n",
            "Epoch 250/250, Train Loss_AB: 0.5030967593193054, Train Loss_E: 127.75157165527344, Test Loss_AB: 0.5084624290466309, Test Loss_E: 129.1678466796875\n"
          ]
        }
      ]
    },
    {
      "cell_type": "markdown",
      "source": [
        "# Plotting"
      ],
      "metadata": {
        "id": "JU4a4qyTu4mp"
      }
    },
    {
      "cell_type": "code",
      "source": [
        "plt.figure(figsize=(12, 6))\n",
        "plt.subplot(1, 2, 1)\n",
        "plt.plot(train_losses_ab_list, label='Train Bob Loss')\n",
        "plt.plot(train_losses_e_list, label='Train Eve Loss')\n",
        "plt.xlabel('Epochs')\n",
        "plt.ylabel('Loss')\n",
        "plt.title('Training Losses')\n",
        "plt.legend()\n",
        "\n",
        "plt.subplot(1, 2, 2)\n",
        "plt.plot(test_losses_ab_list, label='Test Bob Loss')\n",
        "plt.plot(test_losses_e_list, label='Test Eve Loss')\n",
        "plt.xlabel('Epochs')\n",
        "plt.ylabel('Loss')\n",
        "plt.title('Testing Losses')\n",
        "plt.legend()\n",
        "\n",
        "plt.tight_layout()\n",
        "plt.show()"
      ],
      "metadata": {
        "colab": {
          "base_uri": "https://localhost:8080/",
          "height": 607
        },
        "id": "B8_JZiw7u6pA",
        "outputId": "811408f3-e448-4b10-bd38-a2868ff32c34"
      },
      "execution_count": 12,
      "outputs": [
        {
          "output_type": "display_data",
          "data": {
            "text/plain": [
              "<Figure size 1200x600 with 2 Axes>"
            ],
            "image/png": "[encoded data removed]"
          },
          "metadata": {}
        }
      ]
    },
    {
      "cell_type": "code",
      "source": [],
      "metadata": {
        "id": "j4WxOwNWvcr7"
      },
      "execution_count": 12,
      "outputs": []
    }
  ]
}