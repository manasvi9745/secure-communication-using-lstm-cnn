{
  "nbformat": 4,
  "nbformat_minor": 0,
  "metadata": {
    "colab": {
      "provenance": []
    },
    "kernelspec": {
      "name": "python3",
      "display_name": "Python 3"
    },
    "language_info": {
      "name": "python"
    }
  },
  "cells": [
    {
      "cell_type": "markdown",
      "source": [
        "# Importing the Libraries"
      ],
      "metadata": {
        "id": "vmKUfcRNWHTr"
      }
    },
    {
      "cell_type": "code",
      "execution_count": 1,
      "metadata": {
        "id": "zsDLaenOV2Rj"
      },
      "outputs": [],
      "source": [
        "import tensorflow as tf\n",
        "from tensorflow.keras import layers, models, optimizers, losses\n",
        "import numpy as np\n",
        "import matplotlib.pyplot as plt"
      ]
    },
    {
      "cell_type": "markdown",
      "source": [
        "# Data Generation"
      ],
      "metadata": {
        "id": "VTJs3mjQWjfW"
      }
    },
    {
      "cell_type": "markdown",
      "source": [
        "## Defining the function"
      ],
      "metadata": {
        "id": "MXC_s1eiWygU"
      }
    },
    {
      "cell_type": "code",
      "source": [
        "def generate_data(batch_size, seq_length):\n",
        "    messages = np.random.choice([-1, 1], size=(batch_size, seq_length, 1)).astype(np.float32)\n",
        "    keys = np.random.choice([-1, 1], size=(batch_size, seq_length, 1)).astype(np.float32)\n",
        "    return messages, keys"
      ],
      "metadata": {
        "id": "TEU6YD4rWnk1"
      },
      "execution_count": 2,
      "outputs": []
    },
    {
      "cell_type": "markdown",
      "source": [
        "## Parameters for Data Generation"
      ],
      "metadata": {
        "id": "j5K3lgWjW4to"
      }
    },
    {
      "cell_type": "code",
      "source": [
        "batch_size = 64\n",
        "seq_length = 128\n",
        "train_size = 1000\n",
        "test_size = 200"
      ],
      "metadata": {
        "id": "cgWtUfUuW-WV"
      },
      "execution_count": 3,
      "outputs": []
    },
    {
      "cell_type": "markdown",
      "source": [
        "## Generating training and testing data"
      ],
      "metadata": {
        "id": "CkIOocqiXFgI"
      }
    },
    {
      "cell_type": "code",
      "source": [
        "train_messages, train_keys = generate_data(train_size, seq_length)\n",
        "test_messages, test_keys = generate_data(test_size, seq_length)"
      ],
      "metadata": {
        "id": "mSZzQKwnXLyi"
      },
      "execution_count": 4,
      "outputs": []
    },
    {
      "cell_type": "markdown",
      "source": [
        "# Defining the Neural Networks"
      ],
      "metadata": {
        "id": "kCBLZu1wXXEz"
      }
    },
    {
      "cell_type": "markdown",
      "source": [
        "## Alice's Neural Network"
      ],
      "metadata": {
        "id": "ETblyBNss4rJ"
      }
    },
    {
      "cell_type": "code",
      "source": [
        "def build_encryption_net():\n",
        "    model = models.Sequential()\n",
        "    model.add(layers.Conv1D(seq_length, 3, padding='same', input_shape=(None, 2)))\n",
        "    model.add(layers.LSTM(64, return_sequences=True))\n",
        "    model.add(layers.LSTM(32, return_sequences=True))\n",
        "    model.add(layers.TimeDistributed(layers.Dense(32, activation='relu')))\n",
        "    model.add(layers.TimeDistributed(layers.Dense(1, activation='sigmoid')))\n",
        "    return model"
      ],
      "metadata": {
        "id": "562Pf_kcXk8X"
      },
      "execution_count": 5,
      "outputs": []
    },
    {
      "cell_type": "markdown",
      "source": [
        "## Bob's Neural Network"
      ],
      "metadata": {
        "id": "IdK_3_6rs9cL"
      }
    },
    {
      "cell_type": "code",
      "source": [
        "def build_decryption_net():\n",
        "    model = models.Sequential()\n",
        "    model.add(layers.Conv1D(seq_length, 3, padding='same', input_shape=(None, 2)))\n",
        "    model.add(layers.LSTM(64, return_sequences=True))\n",
        "    model.add(layers.LSTM(32, return_sequences=True))\n",
        "    model.add(layers.TimeDistributed(layers.Dense(32, activation='relu')))\n",
        "    model.add(layers.TimeDistributed(layers.Dense(1, activation='sigmoid')))\n",
        "    return model"
      ],
      "metadata": {
        "id": "qecQi1_ms_07"
      },
      "execution_count": 6,
      "outputs": []
    },
    {
      "cell_type": "markdown",
      "source": [
        "## Eve's Neural Network"
      ],
      "metadata": {
        "id": "9sv2Bk7BtA1P"
      }
    },
    {
      "cell_type": "code",
      "source": [
        "def build_adversary_net():\n",
        "    model = models.Sequential()\n",
        "    model.add(layers.InputLayer(input_shape=(seq_length, 1)))\n",
        "    model.add(layers.Dense(seq_length, activation='relu'))\n",
        "    model.add(layers.Dense(seq_length*2, activation='relu'))\n",
        "    model.add(layers.Dense(1, activation='sigmoid'))\n",
        "    return model"
      ],
      "metadata": {
        "id": "vqvirkYKtDrt"
      },
      "execution_count": 7,
      "outputs": []
    },
    {
      "cell_type": "markdown",
      "source": [
        "## Loss Functions"
      ],
      "metadata": {
        "id": "dakrh5wxe-5A"
      }
    },
    {
      "cell_type": "code",
      "source": [
        "def separation(alice_input, bob_output):\n",
        "    separation_value = tf.reduce_sum(tf.abs(tf.subtract(alice_input, bob_output)), axis=1)\n",
        "    # print(\"separation\", separation_value.numpy())\n",
        "    return separation_value\n",
        "\n",
        "def eve_vs_random_guess(alice_input, eve_output):\n",
        "    loss = tf.square(seq_length/2 - separation(alice_input, eve_output)) / (seq_length/2) ** 2\n",
        "    # print(\"Eve vs random guess loss:\", loss.numpy())\n",
        "    return tf.reduce_mean(loss)\n",
        "\n",
        "def combined_loss_function(alice_input, decipher_bob, eve_output):\n",
        "    loss = separation(alice_input, decipher_bob)/seq_length + eve_vs_random_guess(alice_input, eve_output)\n",
        "    # print(\"Combined loss function:\", loss.numpy())\n",
        "    return tf.reduce_mean(loss)\n",
        "\n",
        "def attacker_loss(alice_input, eve_output):\n",
        "    loss = separation(alice_input, eve_output)\n",
        "    # print(\"Attacker loss:\", loss.numpy())\n",
        "    return tf.reduce_mean(loss)"
      ],
      "metadata": {
        "id": "xV0mtS23fIqM"
      },
      "execution_count": 8,
      "outputs": []
    },
    {
      "cell_type": "markdown",
      "source": [
        "## Instantiating and compiling the Neural Networks"
      ],
      "metadata": {
        "id": "UATxS3WYtbEz"
      }
    },
    {
      "cell_type": "code",
      "source": [
        "alice = build_encryption_net()\n",
        "bob = build_decryption_net()\n",
        "eve = build_adversary_net()"
      ],
      "metadata": {
        "id": "jjdJupnrtdSE"
      },
      "execution_count": 9,
      "outputs": []
    },
    {
      "cell_type": "code",
      "source": [
        "optimizer_ab = optimizers.Adam(learning_rate=0.0008)\n",
        "optimizer_e = optimizers.Adam(learning_rate=0.0008)"
      ],
      "metadata": {
        "id": "k-HWLQsQt8XG"
      },
      "execution_count": 10,
      "outputs": []
    },
    {
      "cell_type": "markdown",
      "source": [
        "## Training and Testing"
      ],
      "metadata": {
        "id": "11eCTf85ukDp"
      }
    },
    {
      "cell_type": "code",
      "source": [
        "num_epochs = 250\n",
        "\n",
        "train_losses_ab_list = []\n",
        "train_losses_e_list = []\n",
        "test_losses_ab_list = []\n",
        "test_losses_e_list = []\n",
        "\n",
        "for epoch in range(num_epochs):\n",
        "    with tf.GradientTape() as tape_ab:\n",
        "        combined_input = tf.concat([train_messages, train_keys], axis=-1)\n",
        "        ciphertext = alice(combined_input)\n",
        "\n",
        "        decrypted_input = tf.concat([ciphertext, train_keys], axis=-1)\n",
        "        decrypted_messages = bob(decrypted_input)\n",
        "\n",
        "        loss_ab = combined_loss_function(train_messages, decrypted_messages, eve(ciphertext))\n",
        "\n",
        "    gradients_ab = tape_ab.gradient(loss_ab, alice.trainable_variables + bob.trainable_variables)\n",
        "    optimizer_ab.apply_gradients(zip(gradients_ab, alice.trainable_variables + bob.trainable_variables))\n",
        "\n",
        "    with tf.GradientTape() as tape_e:\n",
        "        guessed_messages = eve(ciphertext)\n",
        "        loss_e = attacker_loss(train_messages, guessed_messages)  # L1 loss for Eve\n",
        "\n",
        "    gradients_e = tape_e.gradient(loss_e, eve.trainable_variables)\n",
        "    optimizer_e.apply_gradients(zip(gradients_e, eve.trainable_variables))\n",
        "\n",
        "    train_losses_ab_list.append(loss_ab.numpy())\n",
        "    train_losses_e_list.append(loss_e.numpy())\n",
        "\n",
        "    test_ciphertext = alice(tf.concat([test_messages, test_keys], axis=-1))\n",
        "    test_decrypted_messages = bob(tf.concat([test_ciphertext, test_keys], axis=-1))\n",
        "    test_guessed_messages = eve(test_ciphertext)\n",
        "\n",
        "    test_loss_ab = combined_loss_function(test_messages, test_decrypted_messages, test_guessed_messages)\n",
        "    test_loss_e = attacker_loss(test_messages, test_guessed_messages)\n",
        "\n",
        "    test_losses_ab_list.append(test_loss_ab.numpy())\n",
        "    test_losses_e_list.append(test_loss_e.numpy())\n",
        "\n",
        "    print(f\"Epoch {epoch + 1}/{num_epochs}, \"\n",
        "          f\"Train Loss_AB: {loss_ab.numpy()}, Train Loss_E: {loss_e.numpy()}, \"\n",
        "          f\"Test Loss_AB: {test_loss_ab.numpy()}, Test Loss_E: {test_loss_e.numpy()}\")"
      ],
      "metadata": {
        "colab": {
          "base_uri": "https://localhost:8080/"
        },
        "id": "h7kg1Ae6umTK",
        "outputId": "ca8a13a7-d4fc-49a0-acea-2f17aa91af5d"
      },
      "execution_count": 11,
      "outputs": [
        {
          "output_type": "stream",
          "name": "stdout",
          "text": [
            "Epoch 1/250, Train Loss_AB: 2.0159082412719727, Train Loss_E: 128.19659423828125, Test Loss_AB: 2.0214500427246094, Test Loss_E: 128.36888122558594\n",
            "Epoch 2/250, Train Loss_AB: 2.0153136253356934, Train Loss_E: 128.1905975341797, Test Loss_AB: 2.0211596488952637, Test Loss_E: 128.3646697998047\n",
            "Epoch 3/250, Train Loss_AB: 2.015089273452759, Train Loss_E: 128.187255859375, Test Loss_AB: 2.0209412574768066, Test Loss_E: 128.35812377929688\n",
            "Epoch 4/250, Train Loss_AB: 2.0148918628692627, Train Loss_E: 128.17990112304688, Test Loss_AB: 2.0206074714660645, Test Loss_E: 128.34674072265625\n",
            "Epoch 5/250, Train Loss_AB: 2.014570474624634, Train Loss_E: 128.16712951660156, Test Loss_AB: 2.0200884342193604, Test Loss_E: 128.3292999267578\n",
            "Epoch 6/250, Train Loss_AB: 2.0140695571899414, Train Loss_E: 128.1480255126953, Test Loss_AB: 2.019357204437256, Test Loss_E: 128.3052520751953\n",
            "Epoch 7/250, Train Loss_AB: 2.0133628845214844, Train Loss_E: 128.1221466064453, Test Loss_AB: 2.0183684825897217, Test Loss_E: 128.27310180664062\n",
            "Epoch 8/250, Train Loss_AB: 2.012402296066284, Train Loss_E: 128.08795166015625, Test Loss_AB: 2.017094135284424, Test Loss_E: 128.23194885253906\n",
            "Epoch 9/250, Train Loss_AB: 2.011157512664795, Train Loss_E: 128.04466247558594, Test Loss_AB: 2.015460252761841, Test Loss_E: 128.17950439453125\n",
            "Epoch 10/250, Train Loss_AB: 2.0095527172088623, Train Loss_E: 127.98998260498047, Test Loss_AB: 2.0134339332580566, Test Loss_E: 128.11483764648438\n",
            "Epoch 11/250, Train Loss_AB: 2.007554292678833, Train Loss_E: 127.92296600341797, Test Loss_AB: 2.0109009742736816, Test Loss_E: 128.0345458984375\n",
            "Epoch 12/250, Train Loss_AB: 2.0050547122955322, Train Loss_E: 127.84029388427734, Test Loss_AB: 2.007830858230591, Test Loss_E: 127.93777465820312\n",
            "Epoch 13/250, Train Loss_AB: 2.0020241737365723, Train Loss_E: 127.74114227294922, Test Loss_AB: 2.004194974899292, Test Loss_E: 127.82361602783203\n",
            "Epoch 14/250, Train Loss_AB: 1.9984272718429565, Train Loss_E: 127.6245346069336, Test Loss_AB: 1.9999101161956787, Test Loss_E: 127.6893539428711\n",
            "Epoch 15/250, Train Loss_AB: 1.9941730499267578, Train Loss_E: 127.48771667480469, Test Loss_AB: 1.9947699308395386, Test Loss_E: 127.52838134765625\n",
            "Epoch 16/250, Train Loss_AB: 1.9890563488006592, Train Loss_E: 127.32410430908203, Test Loss_AB: 1.9887031316757202, Test Loss_E: 127.33810424804688\n",
            "Epoch 17/250, Train Loss_AB: 1.9829890727996826, Train Loss_E: 127.1310806274414, Test Loss_AB: 1.9815768003463745, Test Loss_E: 127.11392211914062\n",
            "Epoch 18/250, Train Loss_AB: 1.9758179187774658, Train Loss_E: 126.90396118164062, Test Loss_AB: 1.9733220338821411, Test Loss_E: 126.85352325439453\n",
            "Epoch 19/250, Train Loss_AB: 1.9674677848815918, Train Loss_E: 126.64053344726562, Test Loss_AB: 1.963775634765625, Test Loss_E: 126.55200958251953\n",
            "Epoch 20/250, Train Loss_AB: 1.9577751159667969, Train Loss_E: 126.3355484008789, Test Loss_AB: 1.9527199268341064, Test Loss_E: 126.2024917602539\n",
            "Epoch 21/250, Train Loss_AB: 1.9465302228927612, Train Loss_E: 125.98201751708984, Test Loss_AB: 1.9399819374084473, Test Loss_E: 125.80072021484375\n",
            "Epoch 22/250, Train Loss_AB: 1.9336103200912476, Train Loss_E: 125.57592010498047, Test Loss_AB: 1.9252985715866089, Test Loss_E: 125.33978271484375\n",
            "Epoch 23/250, Train Loss_AB: 1.918789267539978, Train Loss_E: 125.11029815673828, Test Loss_AB: 1.9084335565567017, Test Loss_E: 124.8134765625\n",
            "Epoch 24/250, Train Loss_AB: 1.901843786239624, Train Loss_E: 124.57857513427734, Test Loss_AB: 1.8892079591751099, Test Loss_E: 124.21574401855469\n",
            "Epoch 25/250, Train Loss_AB: 1.8825767040252686, Train Loss_E: 123.97457885742188, Test Loss_AB: 1.8674845695495605, Test Loss_E: 123.54087829589844\n",
            "Epoch 26/250, Train Loss_AB: 1.8608299493789673, Train Loss_E: 123.29238891601562, Test Loss_AB: 1.8431777954101562, Test Loss_E: 122.78411102294922\n",
            "Epoch 27/250, Train Loss_AB: 1.83648681640625, Train Loss_E: 122.52726745605469, Test Loss_AB: 1.8162235021591187, Test Loss_E: 121.9424057006836\n",
            "Epoch 28/250, Train Loss_AB: 1.8094581365585327, Train Loss_E: 121.67671966552734, Test Loss_AB: 1.7865601778030396, Test Loss_E: 121.01398468017578\n",
            "Epoch 29/250, Train Loss_AB: 1.779687523841858, Train Loss_E: 120.739501953125, Test Loss_AB: 1.7540512084960938, Test Loss_E: 119.99292755126953\n",
            "Epoch 30/250, Train Loss_AB: 1.7470788955688477, Train Loss_E: 119.71017456054688, Test Loss_AB: 1.7185423374176025, Test Loss_E: 118.87353515625\n",
            "Epoch 31/250, Train Loss_AB: 1.7115391492843628, Train Loss_E: 118.58403015136719, Test Loss_AB: 1.6798162460327148, Test Loss_E: 117.64520263671875\n",
            "Epoch 32/250, Train Loss_AB: 1.6728652715682983, Train Loss_E: 117.35124969482422, Test Loss_AB: 1.638052225112915, Test Loss_E: 116.30601501464844\n",
            "Epoch 33/250, Train Loss_AB: 1.6311843395233154, Train Loss_E: 116.01013946533203, Test Loss_AB: 1.593530535697937, Test Loss_E: 114.86038970947266\n",
            "Epoch 34/250, Train Loss_AB: 1.5867400169372559, Train Loss_E: 114.56563568115234, Test Loss_AB: 1.5468947887420654, Test Loss_E: 113.32781219482422\n",
            "Epoch 35/250, Train Loss_AB: 1.5401679277420044, Train Loss_E: 113.03655242919922, Test Loss_AB: 1.4985666275024414, Test Loss_E: 111.71886444091797\n",
            "Epoch 36/250, Train Loss_AB: 1.4919507503509521, Train Loss_E: 111.43399810791016, Test Loss_AB: 1.4496442079544067, Test Loss_E: 110.06900024414062\n",
            "Epoch 37/250, Train Loss_AB: 1.4431564807891846, Train Loss_E: 109.79133605957031, Test Loss_AB: 1.4012871980667114, Test Loss_E: 108.41342163085938\n",
            "Epoch 38/250, Train Loss_AB: 1.3948944807052612, Train Loss_E: 108.14277648925781, Test Loss_AB: 1.3548614978790283, Test Loss_E: 106.8075942993164\n",
            "Epoch 39/250, Train Loss_AB: 1.3485040664672852, Train Loss_E: 106.5428466796875, Test Loss_AB: 1.3102459907531738, Test Loss_E: 105.24542236328125\n",
            "Epoch 40/250, Train Loss_AB: 1.3039460182189941, Train Loss_E: 104.98621368408203, Test Loss_AB: 1.2665421962738037, Test Loss_E: 103.6840591430664\n",
            "Epoch 41/250, Train Loss_AB: 1.260372519493103, Train Loss_E: 103.43096923828125, Test Loss_AB: 1.2234584093093872, Test Loss_E: 102.1097640991211\n",
            "Epoch 42/250, Train Loss_AB: 1.2174358367919922, Train Loss_E: 101.86427307128906, Test Loss_AB: 1.181251049041748, Test Loss_E: 100.54129028320312\n",
            "Epoch 43/250, Train Loss_AB: 1.1753873825073242, Train Loss_E: 100.30397033691406, Test Loss_AB: 1.1400927305221558, Test Loss_E: 98.99584197998047\n",
            "Epoch 44/250, Train Loss_AB: 1.1344382762908936, Train Loss_E: 98.76368713378906, Test Loss_AB: 1.1003997325897217, Test Loss_E: 97.48998260498047\n",
            "Epoch 45/250, Train Loss_AB: 1.0949786901474, Train Loss_E: 97.25918579101562, Test Loss_AB: 1.0629016160964966, Test Loss_E: 96.06730651855469\n",
            "Epoch 46/250, Train Loss_AB: 1.0577081441879272, Train Loss_E: 95.83663177490234, Test Loss_AB: 1.0285162925720215, Test Loss_E: 94.79045104980469\n",
            "Epoch 47/250, Train Loss_AB: 1.0235906839370728, Train Loss_E: 94.56132507324219, Test Loss_AB: 0.9973188638687134, Test Loss_E: 93.67355346679688\n",
            "Epoch 48/250, Train Loss_AB: 0.9926782250404358, Train Loss_E: 93.4447021484375, Test Loss_AB: 0.9689866900444031, Test Loss_E: 92.6897964477539\n",
            "Epoch 49/250, Train Loss_AB: 0.9646410942077637, Train Loss_E: 92.46161651611328, Test Loss_AB: 0.9432811141014099, Test Loss_E: 91.811767578125\n",
            "Epoch 50/250, Train Loss_AB: 0.9392312169075012, Train Loss_E: 91.58534240722656, Test Loss_AB: 0.9200451374053955, Test Loss_E: 91.03170013427734\n",
            "Epoch 51/250, Train Loss_AB: 0.9162949323654175, Train Loss_E: 90.80709075927734, Test Loss_AB: 0.8986942768096924, Test Loss_E: 90.33548736572266\n",
            "Epoch 52/250, Train Loss_AB: 0.8952022790908813, Train Loss_E: 90.111083984375, Test Loss_AB: 0.8785147070884705, Test Loss_E: 89.68712615966797\n",
            "Epoch 53/250, Train Loss_AB: 0.8752433061599731, Train Loss_E: 89.46257781982422, Test Loss_AB: 0.8591150045394897, Test Loss_E: 89.07330322265625\n",
            "Epoch 54/250, Train Loss_AB: 0.8560301661491394, Train Loss_E: 88.8488998413086, Test Loss_AB: 0.8401835560798645, Test Loss_E: 88.4822006225586\n",
            "Epoch 55/250, Train Loss_AB: 0.8372372984886169, Train Loss_E: 88.25828552246094, Test Loss_AB: 0.8216031789779663, Test Loss_E: 87.91050720214844\n",
            "Epoch 56/250, Train Loss_AB: 0.8187487721443176, Train Loss_E: 87.68733215332031, Test Loss_AB: 0.8033134341239929, Test Loss_E: 87.35539245605469\n",
            "Epoch 57/250, Train Loss_AB: 0.8005541563034058, Train Loss_E: 87.13301849365234, Test Loss_AB: 0.7852949500083923, Test Loss_E: 86.8112564086914\n",
            "Epoch 58/250, Train Loss_AB: 0.78260338306427, Train Loss_E: 86.5895767211914, Test Loss_AB: 0.7674309611320496, Test Loss_E: 86.2688980102539\n",
            "Epoch 59/250, Train Loss_AB: 0.7648281455039978, Train Loss_E: 86.04793548583984, Test Loss_AB: 0.7496901154518127, Test Loss_E: 85.7234878540039\n",
            "Epoch 60/250, Train Loss_AB: 0.7471875548362732, Train Loss_E: 85.50335693359375, Test Loss_AB: 0.7320166826248169, Test Loss_E: 85.17430877685547\n",
            "Epoch 61/250, Train Loss_AB: 0.7296099066734314, Train Loss_E: 84.95516967773438, Test Loss_AB: 0.7143058776855469, Test Loss_E: 84.62068176269531\n",
            "Epoch 62/250, Train Loss_AB: 0.7119987607002258, Train Loss_E: 84.40270233154297, Test Loss_AB: 0.6965275406837463, Test Loss_E: 84.06695556640625\n",
            "Epoch 63/250, Train Loss_AB: 0.6943208575248718, Train Loss_E: 83.85017395019531, Test Loss_AB: 0.678926944732666, Test Loss_E: 83.51148223876953\n",
            "Epoch 64/250, Train Loss_AB: 0.6768054962158203, Train Loss_E: 83.29596710205078, Test Loss_AB: 0.6624079942703247, Test Loss_E: 82.95901489257812\n",
            "Epoch 65/250, Train Loss_AB: 0.6604198217391968, Train Loss_E: 82.74472045898438, Test Loss_AB: 0.6478217244148254, Test Loss_E: 82.40039825439453\n",
            "Epoch 66/250, Train Loss_AB: 0.645906388759613, Train Loss_E: 82.18727111816406, Test Loss_AB: 0.6329732537269592, Test Loss_E: 81.84259796142578\n",
            "Epoch 67/250, Train Loss_AB: 0.63117516040802, Train Loss_E: 81.63067626953125, Test Loss_AB: 0.6210644245147705, Test Loss_E: 81.27859497070312\n",
            "Epoch 68/250, Train Loss_AB: 0.6193438172340393, Train Loss_E: 81.06785583496094, Test Loss_AB: 0.6106342077255249, Test Loss_E: 80.70866394042969\n",
            "Epoch 69/250, Train Loss_AB: 0.6089824438095093, Train Loss_E: 80.49913024902344, Test Loss_AB: 0.6015626788139343, Test Loss_E: 80.13935852050781\n",
            "Epoch 70/250, Train Loss_AB: 0.5999624133110046, Train Loss_E: 79.93106079101562, Test Loss_AB: 0.5933709144592285, Test Loss_E: 79.57212829589844\n",
            "Epoch 71/250, Train Loss_AB: 0.5918080806732178, Train Loss_E: 79.36505126953125, Test Loss_AB: 0.58653724193573, Test Loss_E: 79.00386810302734\n",
            "Epoch 72/250, Train Loss_AB: 0.5850180983543396, Train Loss_E: 78.7980728149414, Test Loss_AB: 0.5799002051353455, Test Loss_E: 78.43379211425781\n",
            "Epoch 73/250, Train Loss_AB: 0.5784323811531067, Train Loss_E: 78.22930145263672, Test Loss_AB: 0.574052095413208, Test Loss_E: 77.86473846435547\n",
            "Epoch 74/250, Train Loss_AB: 0.5726374387741089, Train Loss_E: 77.66157531738281, Test Loss_AB: 0.5688834190368652, Test Loss_E: 77.30011749267578\n",
            "Epoch 75/250, Train Loss_AB: 0.5675228238105774, Train Loss_E: 77.09828186035156, Test Loss_AB: 0.5640192627906799, Test Loss_E: 76.74225616455078\n",
            "Epoch 76/250, Train Loss_AB: 0.5627124905586243, Train Loss_E: 76.5417251586914, Test Loss_AB: 0.5594954490661621, Test Loss_E: 76.19232177734375\n",
            "Epoch 77/250, Train Loss_AB: 0.5582420825958252, Train Loss_E: 75.99308013916016, Test Loss_AB: 0.5554082989692688, Test Loss_E: 75.6508560180664\n",
            "Epoch 78/250, Train Loss_AB: 0.5542060732841492, Train Loss_E: 75.4528579711914, Test Loss_AB: 0.5516910552978516, Test Loss_E: 75.11848449707031\n",
            "Epoch 79/250, Train Loss_AB: 0.5505374670028687, Train Loss_E: 74.92169952392578, Test Loss_AB: 0.5482484698295593, Test Loss_E: 74.59612274169922\n",
            "Epoch 80/250, Train Loss_AB: 0.5471412539482117, Train Loss_E: 74.4005355834961, Test Loss_AB: 0.5450416803359985, Test Loss_E: 74.08488464355469\n",
            "Epoch 81/250, Train Loss_AB: 0.5439783930778503, Train Loss_E: 73.89047241210938, Test Loss_AB: 0.5420730710029602, Test Loss_E: 73.58611297607422\n",
            "Epoch 82/250, Train Loss_AB: 0.541050910949707, Train Loss_E: 73.39280700683594, Test Loss_AB: 0.5393463373184204, Test Loss_E: 73.1002426147461\n",
            "Epoch 83/250, Train Loss_AB: 0.5383626818656921, Train Loss_E: 72.90796661376953, Test Loss_AB: 0.5368614792823792, Test Loss_E: 72.62947082519531\n",
            "Epoch 84/250, Train Loss_AB: 0.5359138250350952, Train Loss_E: 72.43814086914062, Test Loss_AB: 0.53460294008255, Test Loss_E: 72.17586517333984\n",
            "Epoch 85/250, Train Loss_AB: 0.5336888432502747, Train Loss_E: 71.98540496826172, Test Loss_AB: 0.5325472354888916, Test Loss_E: 71.74063110351562\n",
            "Epoch 86/250, Train Loss_AB: 0.5316645503044128, Train Loss_E: 71.55098724365234, Test Loss_AB: 0.5306721329689026, Test Loss_E: 71.32434844970703\n",
            "Epoch 87/250, Train Loss_AB: 0.5298187136650085, Train Loss_E: 71.135498046875, Test Loss_AB: 0.5289597511291504, Test Loss_E: 70.92647552490234\n",
            "Epoch 88/250, Train Loss_AB: 0.5281336903572083, Train Loss_E: 70.73846435546875, Test Loss_AB: 0.5274035930633545, Test Loss_E: 70.54737854003906\n",
            "Epoch 89/250, Train Loss_AB: 0.5266029238700867, Train Loss_E: 70.3602066040039, Test Loss_AB: 0.5260006189346313, Test Loss_E: 70.18767547607422\n",
            "Epoch 90/250, Train Loss_AB: 0.5252234935760498, Train Loss_E: 70.00132751464844, Test Loss_AB: 0.5247427225112915, Test Loss_E: 69.84745788574219\n",
            "Epoch 91/250, Train Loss_AB: 0.5239874720573425, Train Loss_E: 69.66187286376953, Test Loss_AB: 0.5236155986785889, Test Loss_E: 69.52597045898438\n",
            "Epoch 92/250, Train Loss_AB: 0.522880494594574, Train Loss_E: 69.34111022949219, Test Loss_AB: 0.5226036310195923, Test Loss_E: 69.22221374511719\n",
            "Epoch 93/250, Train Loss_AB: 0.5218873023986816, Train Loss_E: 69.03801727294922, Test Loss_AB: 0.5216930508613586, Test Loss_E: 68.93545532226562\n",
            "Epoch 94/250, Train Loss_AB: 0.5209941267967224, Train Loss_E: 68.75186157226562, Test Loss_AB: 0.5208731293678284, Test Loss_E: 68.66534423828125\n",
            "Epoch 95/250, Train Loss_AB: 0.5201904773712158, Train Loss_E: 68.48233795166016, Test Loss_AB: 0.520135760307312, Test Loss_E: 68.41171264648438\n",
            "Epoch 96/250, Train Loss_AB: 0.5194682478904724, Train Loss_E: 68.22927856445312, Test Loss_AB: 0.5194742679595947, Test Loss_E: 68.1742172241211\n",
            "Epoch 97/250, Train Loss_AB: 0.518820583820343, Train Loss_E: 67.99235534667969, Test Loss_AB: 0.5188813209533691, Test Loss_E: 67.9521255493164\n",
            "Epoch 98/250, Train Loss_AB: 0.5182405114173889, Train Loss_E: 67.77078247070312, Test Loss_AB: 0.5183491110801697, Test Loss_E: 67.74435424804688\n",
            "Epoch 99/250, Train Loss_AB: 0.5177204012870789, Train Loss_E: 67.5634994506836, Test Loss_AB: 0.517869770526886, Test Loss_E: 67.54977416992188\n",
            "Epoch 100/250, Train Loss_AB: 0.5172522068023682, Train Loss_E: 67.3693618774414, Test Loss_AB: 0.5174367427825928, Test Loss_E: 67.36760711669922\n",
            "Epoch 101/250, Train Loss_AB: 0.516829788684845, Train Loss_E: 67.1875991821289, Test Loss_AB: 0.5170454978942871, Test Loss_E: 67.19744873046875\n",
            "Epoch 102/250, Train Loss_AB: 0.5164480805397034, Train Loss_E: 67.01779174804688, Test Loss_AB: 0.5166922807693481, Test Loss_E: 67.0389175415039\n",
            "Epoch 103/250, Train Loss_AB: 0.5161037445068359, Train Loss_E: 66.85955810546875, Test Loss_AB: 0.5163734555244446, Test Loss_E: 66.89140319824219\n",
            "Epoch 104/250, Train Loss_AB: 0.5157929062843323, Train Loss_E: 66.71232604980469, Test Loss_AB: 0.516085147857666, Test Loss_E: 66.75411224365234\n",
            "Epoch 105/250, Train Loss_AB: 0.5155119895935059, Train Loss_E: 66.57528686523438, Test Loss_AB: 0.5158237218856812, Test Loss_E: 66.62618255615234\n",
            "Epoch 106/250, Train Loss_AB: 0.5152571797370911, Train Loss_E: 66.44760131835938, Test Loss_AB: 0.5155860781669617, Test Loss_E: 66.50679779052734\n",
            "Epoch 107/250, Train Loss_AB: 0.5150258541107178, Train Loss_E: 66.32842254638672, Test Loss_AB: 0.5153695940971375, Test Loss_E: 66.39537811279297\n",
            "Epoch 108/250, Train Loss_AB: 0.5148152112960815, Train Loss_E: 66.2171859741211, Test Loss_AB: 0.515172004699707, Test Loss_E: 66.29141235351562\n",
            "Epoch 109/250, Train Loss_AB: 0.5146229863166809, Train Loss_E: 66.11339569091797, Test Loss_AB: 0.5149912238121033, Test Loss_E: 66.19445037841797\n",
            "Epoch 110/250, Train Loss_AB: 0.5144472122192383, Train Loss_E: 66.01659393310547, Test Loss_AB: 0.5148251056671143, Test Loss_E: 66.1040267944336\n",
            "Epoch 111/250, Train Loss_AB: 0.5142857432365417, Train Loss_E: 65.92632293701172, Test Loss_AB: 0.5146723389625549, Test Loss_E: 66.01968383789062\n",
            "Epoch 112/250, Train Loss_AB: 0.5141371488571167, Train Loss_E: 65.84210968017578, Test Loss_AB: 0.5145315527915955, Test Loss_E: 65.94096374511719\n",
            "Epoch 113/250, Train Loss_AB: 0.5140001177787781, Train Loss_E: 65.76349639892578, Test Loss_AB: 0.5144014358520508, Test Loss_E: 65.8674545288086\n",
            "Epoch 114/250, Train Loss_AB: 0.5138735175132751, Train Loss_E: 65.69009399414062, Test Loss_AB: 0.5142808556556702, Test Loss_E: 65.7988052368164\n",
            "Epoch 115/250, Train Loss_AB: 0.5137561559677124, Train Loss_E: 65.62154388427734, Test Loss_AB: 0.5141688585281372, Test Loss_E: 65.73465728759766\n",
            "Epoch 116/250, Train Loss_AB: 0.513647198677063, Train Loss_E: 65.55748748779297, Test Loss_AB: 0.5140646696090698, Test Loss_E: 65.67471313476562\n",
            "Epoch 117/250, Train Loss_AB: 0.5135456919670105, Train Loss_E: 65.49760437011719, Test Loss_AB: 0.5139673352241516, Test Loss_E: 65.61862182617188\n",
            "Epoch 118/250, Train Loss_AB: 0.5134509205818176, Train Loss_E: 65.44158172607422, Test Loss_AB: 0.5138762593269348, Test Loss_E: 65.56609344482422\n",
            "Epoch 119/250, Train Loss_AB: 0.5133621096611023, Train Loss_E: 65.38910675048828, Test Loss_AB: 0.5137907266616821, Test Loss_E: 65.51683807373047\n",
            "Epoch 120/250, Train Loss_AB: 0.5132786631584167, Train Loss_E: 65.33988952636719, Test Loss_AB: 0.5137102603912354, Test Loss_E: 65.4706039428711\n",
            "Epoch 121/250, Train Loss_AB: 0.5132002234458923, Train Loss_E: 65.29370880126953, Test Loss_AB: 0.5136345028877258, Test Loss_E: 65.42719268798828\n",
            "Epoch 122/250, Train Loss_AB: 0.5131260752677917, Train Loss_E: 65.25032806396484, Test Loss_AB: 0.5135630369186401, Test Loss_E: 65.38640594482422\n",
            "Epoch 123/250, Train Loss_AB: 0.513056218624115, Train Loss_E: 65.20957946777344, Test Loss_AB: 0.5134953856468201, Test Loss_E: 65.3480453491211\n",
            "Epoch 124/250, Train Loss_AB: 0.5129899978637695, Train Loss_E: 65.17123413085938, Test Loss_AB: 0.5134311318397522, Test Loss_E: 65.31195068359375\n",
            "Epoch 125/250, Train Loss_AB: 0.5129271149635315, Train Loss_E: 65.13516235351562, Test Loss_AB: 0.5133700966835022, Test Loss_E: 65.27793884277344\n",
            "Epoch 126/250, Train Loss_AB: 0.5128672122955322, Train Loss_E: 65.1011734008789, Test Loss_AB: 0.5133118629455566, Test Loss_E: 65.24588775634766\n",
            "Epoch 127/250, Train Loss_AB: 0.5128099322319031, Train Loss_E: 65.06913757324219, Test Loss_AB: 0.5132562518119812, Test Loss_E: 65.21563720703125\n",
            "Epoch 128/250, Train Loss_AB: 0.512755274772644, Train Loss_E: 65.03889465332031, Test Loss_AB: 0.5132030844688416, Test Loss_E: 65.1870346069336\n",
            "Epoch 129/250, Train Loss_AB: 0.5127028822898865, Train Loss_E: 65.01030731201172, Test Loss_AB: 0.5131521821022034, Test Loss_E: 65.15998077392578\n",
            "Epoch 130/250, Train Loss_AB: 0.5126526355743408, Train Loss_E: 64.98326110839844, Test Loss_AB: 0.5131033062934875, Test Loss_E: 65.1343765258789\n",
            "Epoch 131/250, Train Loss_AB: 0.5126044154167175, Train Loss_E: 64.95764923095703, Test Loss_AB: 0.5130563974380493, Test Loss_E: 65.110107421875\n",
            "Epoch 132/250, Train Loss_AB: 0.5125579833984375, Train Loss_E: 64.93338775634766, Test Loss_AB: 0.5130111575126648, Test Loss_E: 65.08709716796875\n",
            "Epoch 133/250, Train Loss_AB: 0.5125131607055664, Train Loss_E: 64.91039276123047, Test Loss_AB: 0.512967586517334, Test Loss_E: 65.06527709960938\n",
            "Epoch 134/250, Train Loss_AB: 0.5124699473381042, Train Loss_E: 64.88856506347656, Test Loss_AB: 0.5129254460334778, Test Loss_E: 65.0445327758789\n",
            "Epoch 135/250, Train Loss_AB: 0.5124281644821167, Train Loss_E: 64.86782836914062, Test Loss_AB: 0.5128847360610962, Test Loss_E: 65.02479553222656\n",
            "Epoch 136/250, Train Loss_AB: 0.5123875737190247, Train Loss_E: 64.84809112548828, Test Loss_AB: 0.5128452181816101, Test Loss_E: 65.00601196289062\n",
            "Epoch 137/250, Train Loss_AB: 0.5123482942581177, Train Loss_E: 64.82931518554688, Test Loss_AB: 0.5128069519996643, Test Loss_E: 64.98812866210938\n",
            "Epoch 138/250, Train Loss_AB: 0.5123100876808167, Train Loss_E: 64.81143188476562, Test Loss_AB: 0.5127697587013245, Test Loss_E: 64.97107696533203\n",
            "Epoch 139/250, Train Loss_AB: 0.5122728943824768, Train Loss_E: 64.79437255859375, Test Loss_AB: 0.5127336382865906, Test Loss_E: 64.95480346679688\n",
            "Epoch 140/250, Train Loss_AB: 0.5122367739677429, Train Loss_E: 64.7780990600586, Test Loss_AB: 0.5126983523368835, Test Loss_E: 64.93924713134766\n",
            "Epoch 141/250, Train Loss_AB: 0.5122014284133911, Train Loss_E: 64.7625503540039, Test Loss_AB: 0.5126640796661377, Test Loss_E: 64.92436218261719\n",
            "Epoch 142/250, Train Loss_AB: 0.5121669769287109, Train Loss_E: 64.74767303466797, Test Loss_AB: 0.5126305222511292, Test Loss_E: 64.91011047363281\n",
            "Epoch 143/250, Train Loss_AB: 0.5121333003044128, Train Loss_E: 64.7334213256836, Test Loss_AB: 0.5125977993011475, Test Loss_E: 64.89645385742188\n",
            "Epoch 144/250, Train Loss_AB: 0.512100338935852, Train Loss_E: 64.71975708007812, Test Loss_AB: 0.5125658512115479, Test Loss_E: 64.88336181640625\n",
            "Epoch 145/250, Train Loss_AB: 0.5120680928230286, Train Loss_E: 64.7066650390625, Test Loss_AB: 0.5125345587730408, Test Loss_E: 64.87081146240234\n",
            "Epoch 146/250, Train Loss_AB: 0.5120366215705872, Train Loss_E: 64.6941146850586, Test Loss_AB: 0.5125038027763367, Test Loss_E: 64.85877227783203\n",
            "Epoch 147/250, Train Loss_AB: 0.5120055675506592, Train Loss_E: 64.68207550048828, Test Loss_AB: 0.5124737620353699, Test Loss_E: 64.84719848632812\n",
            "Epoch 148/250, Train Loss_AB: 0.5119751691818237, Train Loss_E: 64.67049407958984, Test Loss_AB: 0.512444257736206, Test Loss_E: 64.8360595703125\n",
            "Epoch 149/250, Train Loss_AB: 0.5119452476501465, Train Loss_E: 64.65937042236328, Test Loss_AB: 0.5124152302742004, Test Loss_E: 64.82536315917969\n",
            "Epoch 150/250, Train Loss_AB: 0.5119158029556274, Train Loss_E: 64.64866638183594, Test Loss_AB: 0.5123867392539978, Test Loss_E: 64.81505584716797\n",
            "Epoch 151/250, Train Loss_AB: 0.5118869543075562, Train Loss_E: 64.63835906982422, Test Loss_AB: 0.5123587250709534, Test Loss_E: 64.80513000488281\n",
            "Epoch 152/250, Train Loss_AB: 0.5118584036827087, Train Loss_E: 64.62842559814453, Test Loss_AB: 0.5123311877250671, Test Loss_E: 64.79556274414062\n",
            "Epoch 153/250, Train Loss_AB: 0.5118303298950195, Train Loss_E: 64.61885833740234, Test Loss_AB: 0.5123039484024048, Test Loss_E: 64.78633880615234\n",
            "Epoch 154/250, Train Loss_AB: 0.511802613735199, Train Loss_E: 64.60963439941406, Test Loss_AB: 0.5122771263122559, Test Loss_E: 64.77743530273438\n",
            "Epoch 155/250, Train Loss_AB: 0.5117753148078918, Train Loss_E: 64.60072326660156, Test Loss_AB: 0.5122506618499756, Test Loss_E: 64.7688217163086\n",
            "Epoch 156/250, Train Loss_AB: 0.5117482542991638, Train Loss_E: 64.59211730957031, Test Loss_AB: 0.512224555015564, Test Loss_E: 64.760498046875\n",
            "Epoch 157/250, Train Loss_AB: 0.5117216110229492, Train Loss_E: 64.58379364013672, Test Loss_AB: 0.5121988654136658, Test Loss_E: 64.75245666503906\n",
            "Epoch 158/250, Train Loss_AB: 0.5116952061653137, Train Loss_E: 64.57575225830078, Test Loss_AB: 0.5121734142303467, Test Loss_E: 64.74467468261719\n",
            "Epoch 159/250, Train Loss_AB: 0.5116691589355469, Train Loss_E: 64.5679702758789, Test Loss_AB: 0.5121482610702515, Test Loss_E: 64.73715209960938\n",
            "Epoch 160/250, Train Loss_AB: 0.5116433501243591, Train Loss_E: 64.56044006347656, Test Loss_AB: 0.5121234655380249, Test Loss_E: 64.72986602783203\n",
            "Epoch 161/250, Train Loss_AB: 0.5116178393363953, Train Loss_E: 64.55314636230469, Test Loss_AB: 0.5120989084243774, Test Loss_E: 64.7228012084961\n",
            "Epoch 162/250, Train Loss_AB: 0.5115925669670105, Train Loss_E: 64.54608154296875, Test Loss_AB: 0.5120746493339539, Test Loss_E: 64.71595001220703\n",
            "Epoch 163/250, Train Loss_AB: 0.5115676522254944, Train Loss_E: 64.53923034667969, Test Loss_AB: 0.5120506286621094, Test Loss_E: 64.70930480957031\n",
            "Epoch 164/250, Train Loss_AB: 0.5115429162979126, Train Loss_E: 64.53258514404297, Test Loss_AB: 0.5120269060134888, Test Loss_E: 64.7028579711914\n",
            "Epoch 165/250, Train Loss_AB: 0.5115184187889099, Train Loss_E: 64.52613830566406, Test Loss_AB: 0.5120034217834473, Test Loss_E: 64.69660186767578\n",
            "Epoch 166/250, Train Loss_AB: 0.5114941596984863, Train Loss_E: 64.51988220214844, Test Loss_AB: 0.5119801163673401, Test Loss_E: 64.6905288696289\n",
            "Epoch 167/250, Train Loss_AB: 0.5114700794219971, Train Loss_E: 64.51380920410156, Test Loss_AB: 0.5119569897651672, Test Loss_E: 64.68463134765625\n",
            "Epoch 168/250, Train Loss_AB: 0.5114462375640869, Train Loss_E: 64.5079116821289, Test Loss_AB: 0.5119342803955078, Test Loss_E: 64.67890930175781\n",
            "Epoch 169/250, Train Loss_AB: 0.5114226341247559, Train Loss_E: 64.5021743774414, Test Loss_AB: 0.5119116306304932, Test Loss_E: 64.67333221435547\n",
            "Epoch 170/250, Train Loss_AB: 0.5113992094993591, Train Loss_E: 64.49661254882812, Test Loss_AB: 0.5118892788887024, Test Loss_E: 64.66793060302734\n",
            "Epoch 171/250, Train Loss_AB: 0.5113760828971863, Train Loss_E: 64.49119567871094, Test Loss_AB: 0.5118671655654907, Test Loss_E: 64.66266632080078\n",
            "Epoch 172/250, Train Loss_AB: 0.5113530158996582, Train Loss_E: 64.4859390258789, Test Loss_AB: 0.5118452310562134, Test Loss_E: 64.65754699707031\n",
            "Epoch 173/250, Train Loss_AB: 0.5113303065299988, Train Loss_E: 64.4808120727539, Test Loss_AB: 0.5118234753608704, Test Loss_E: 64.65255737304688\n",
            "Epoch 174/250, Train Loss_AB: 0.5113076567649841, Train Loss_E: 64.475830078125, Test Loss_AB: 0.5118019580841064, Test Loss_E: 64.647705078125\n",
            "Epoch 175/250, Train Loss_AB: 0.5112853050231934, Train Loss_E: 64.4709701538086, Test Loss_AB: 0.5117806196212769, Test Loss_E: 64.64297485351562\n",
            "Epoch 176/250, Train Loss_AB: 0.5112630128860474, Train Loss_E: 64.46623229980469, Test Loss_AB: 0.5117595195770264, Test Loss_E: 64.63836669921875\n",
            "Epoch 177/250, Train Loss_AB: 0.5112409591674805, Train Loss_E: 64.46163177490234, Test Loss_AB: 0.5117385387420654, Test Loss_E: 64.6338882446289\n",
            "Epoch 178/250, Train Loss_AB: 0.5112191438674927, Train Loss_E: 64.45714569091797, Test Loss_AB: 0.511717677116394, Test Loss_E: 64.62950897216797\n",
            "Epoch 179/250, Train Loss_AB: 0.5111973881721497, Train Loss_E: 64.45276641845703, Test Loss_AB: 0.5116970539093018, Test Loss_E: 64.62525177001953\n",
            "Epoch 180/250, Train Loss_AB: 0.5111758708953857, Train Loss_E: 64.44850158691406, Test Loss_AB: 0.511676549911499, Test Loss_E: 64.62109375\n",
            "Epoch 181/250, Train Loss_AB: 0.5111544728279114, Train Loss_E: 64.44434356689453, Test Loss_AB: 0.5116562843322754, Test Loss_E: 64.6170425415039\n",
            "Epoch 182/250, Train Loss_AB: 0.5111332535743713, Train Loss_E: 64.44029235839844, Test Loss_AB: 0.5116361379623413, Test Loss_E: 64.61308288574219\n",
            "Epoch 183/250, Train Loss_AB: 0.5111122727394104, Train Loss_E: 64.43633270263672, Test Loss_AB: 0.5116162300109863, Test Loss_E: 64.60922241210938\n",
            "Epoch 184/250, Train Loss_AB: 0.5110912919044495, Train Loss_E: 64.4324722290039, Test Loss_AB: 0.5115964412689209, Test Loss_E: 64.60545349121094\n",
            "Epoch 185/250, Train Loss_AB: 0.5110706090927124, Train Loss_E: 64.42869567871094, Test Loss_AB: 0.5115768313407898, Test Loss_E: 64.60177612304688\n",
            "Epoch 186/250, Train Loss_AB: 0.5110500454902649, Train Loss_E: 64.42501068115234, Test Loss_AB: 0.5115573406219482, Test Loss_E: 64.59817504882812\n",
            "Epoch 187/250, Train Loss_AB: 0.5110297203063965, Train Loss_E: 64.42142486572266, Test Loss_AB: 0.511538028717041, Test Loss_E: 64.59466552734375\n",
            "Epoch 188/250, Train Loss_AB: 0.5110095143318176, Train Loss_E: 64.41790771484375, Test Loss_AB: 0.5115188956260681, Test Loss_E: 64.59123229980469\n",
            "Epoch 189/250, Train Loss_AB: 0.5109894275665283, Train Loss_E: 64.41447448730469, Test Loss_AB: 0.5114998817443848, Test Loss_E: 64.58788299560547\n",
            "Epoch 190/250, Train Loss_AB: 0.5109694600105286, Train Loss_E: 64.41111755371094, Test Loss_AB: 0.5114810466766357, Test Loss_E: 64.58460998535156\n",
            "Epoch 191/250, Train Loss_AB: 0.5109497308731079, Train Loss_E: 64.40785217285156, Test Loss_AB: 0.511462390422821, Test Loss_E: 64.58141326904297\n",
            "Epoch 192/250, Train Loss_AB: 0.5109301805496216, Train Loss_E: 64.40465545654297, Test Loss_AB: 0.5114438533782959, Test Loss_E: 64.57829284667969\n",
            "Epoch 193/250, Train Loss_AB: 0.5109107494354248, Train Loss_E: 64.40151977539062, Test Loss_AB: 0.5114255547523499, Test Loss_E: 64.57523345947266\n",
            "Epoch 194/250, Train Loss_AB: 0.5108914971351624, Train Loss_E: 64.39846801757812, Test Loss_AB: 0.5114073753356934, Test Loss_E: 64.57225799560547\n",
            "Epoch 195/250, Train Loss_AB: 0.5108723640441895, Train Loss_E: 64.39547729492188, Test Loss_AB: 0.5113893151283264, Test Loss_E: 64.56932830810547\n",
            "Epoch 196/250, Train Loss_AB: 0.5108534693717957, Train Loss_E: 64.3925552368164, Test Loss_AB: 0.5113714337348938, Test Loss_E: 64.56646728515625\n",
            "Epoch 197/250, Train Loss_AB: 0.5108346343040466, Train Loss_E: 64.38969421386719, Test Loss_AB: 0.5113537311553955, Test Loss_E: 64.56367492675781\n",
            "Epoch 198/250, Train Loss_AB: 0.5108160376548767, Train Loss_E: 64.38689422607422, Test Loss_AB: 0.5113361477851868, Test Loss_E: 64.5609359741211\n",
            "Epoch 199/250, Train Loss_AB: 0.5107975602149963, Train Loss_E: 64.3841552734375, Test Loss_AB: 0.5113187432289124, Test Loss_E: 64.5582504272461\n",
            "Epoch 200/250, Train Loss_AB: 0.5107793211936951, Train Loss_E: 64.3814697265625, Test Loss_AB: 0.5113015174865723, Test Loss_E: 64.55563354492188\n",
            "Epoch 201/250, Train Loss_AB: 0.5107611417770386, Train Loss_E: 64.37885284423828, Test Loss_AB: 0.5112844109535217, Test Loss_E: 64.55307006835938\n",
            "Epoch 202/250, Train Loss_AB: 0.510743260383606, Train Loss_E: 64.37628173828125, Test Loss_AB: 0.5112674832344055, Test Loss_E: 64.5505599975586\n",
            "Epoch 203/250, Train Loss_AB: 0.5107254385948181, Train Loss_E: 64.37377166748047, Test Loss_AB: 0.5112507343292236, Test Loss_E: 64.548095703125\n",
            "Epoch 204/250, Train Loss_AB: 0.5107077956199646, Train Loss_E: 64.3713150024414, Test Loss_AB: 0.5112341642379761, Test Loss_E: 64.54568481445312\n",
            "Epoch 205/250, Train Loss_AB: 0.510690450668335, Train Loss_E: 64.36890411376953, Test Loss_AB: 0.5112177133560181, Test Loss_E: 64.54332733154297\n",
            "Epoch 206/250, Train Loss_AB: 0.5106731057167053, Train Loss_E: 64.36654663085938, Test Loss_AB: 0.5112015008926392, Test Loss_E: 64.54102325439453\n",
            "Epoch 207/250, Train Loss_AB: 0.5106559991836548, Train Loss_E: 64.36424255371094, Test Loss_AB: 0.5111854076385498, Test Loss_E: 64.53876495361328\n",
            "Epoch 208/250, Train Loss_AB: 0.5106390714645386, Train Loss_E: 64.36198425292969, Test Loss_AB: 0.51116943359375, Test Loss_E: 64.53654479980469\n",
            "Epoch 209/250, Train Loss_AB: 0.5106223225593567, Train Loss_E: 64.3597640991211, Test Loss_AB: 0.5111536979675293, Test Loss_E: 64.53437805175781\n",
            "Epoch 210/250, Train Loss_AB: 0.5106057524681091, Train Loss_E: 64.35759735107422, Test Loss_AB: 0.5111380815505981, Test Loss_E: 64.53225708007812\n",
            "Epoch 211/250, Train Loss_AB: 0.5105893611907959, Train Loss_E: 64.35546875, Test Loss_AB: 0.5111226439476013, Test Loss_E: 64.5301742553711\n",
            "Epoch 212/250, Train Loss_AB: 0.510573148727417, Train Loss_E: 64.35338592529297, Test Loss_AB: 0.5111073851585388, Test Loss_E: 64.52812957763672\n",
            "Epoch 213/250, Train Loss_AB: 0.5105571150779724, Train Loss_E: 64.35134887695312, Test Loss_AB: 0.5110923051834106, Test Loss_E: 64.526123046875\n",
            "Epoch 214/250, Train Loss_AB: 0.5105412006378174, Train Loss_E: 64.3493423461914, Test Loss_AB: 0.5110774040222168, Test Loss_E: 64.52416229248047\n",
            "Epoch 215/250, Train Loss_AB: 0.5105255246162415, Train Loss_E: 64.34738159179688, Test Loss_AB: 0.5110626816749573, Test Loss_E: 64.5222396850586\n",
            "Epoch 216/250, Train Loss_AB: 0.5105100274085999, Train Loss_E: 64.345458984375, Test Loss_AB: 0.5110481381416321, Test Loss_E: 64.52035522460938\n",
            "Epoch 217/250, Train Loss_AB: 0.5104946494102478, Train Loss_E: 64.34357452392578, Test Loss_AB: 0.5110337138175964, Test Loss_E: 64.51850891113281\n",
            "Epoch 218/250, Train Loss_AB: 0.5104795098304749, Train Loss_E: 64.34172821044922, Test Loss_AB: 0.5110194683074951, Test Loss_E: 64.51669311523438\n",
            "Epoch 219/250, Train Loss_AB: 0.5104644894599915, Train Loss_E: 64.33992004394531, Test Loss_AB: 0.5110054016113281, Test Loss_E: 64.5149154663086\n",
            "Epoch 220/250, Train Loss_AB: 0.5104497075080872, Train Loss_E: 64.33815002441406, Test Loss_AB: 0.5109915137290955, Test Loss_E: 64.51317596435547\n",
            "Epoch 221/250, Train Loss_AB: 0.5104351043701172, Train Loss_E: 64.3364028930664, Test Loss_AB: 0.5109778046607971, Test Loss_E: 64.511474609375\n",
            "Epoch 222/250, Train Loss_AB: 0.5104206800460815, Train Loss_E: 64.33470153808594, Test Loss_AB: 0.5109642744064331, Test Loss_E: 64.50979614257812\n",
            "Epoch 223/250, Train Loss_AB: 0.5104063749313354, Train Loss_E: 64.3330307006836, Test Loss_AB: 0.5109508633613586, Test Loss_E: 64.5081558227539\n",
            "Epoch 224/250, Train Loss_AB: 0.5103923082351685, Train Loss_E: 64.33139038085938, Test Loss_AB: 0.5109377503395081, Test Loss_E: 64.50654602050781\n",
            "Epoch 225/250, Train Loss_AB: 0.510378360748291, Train Loss_E: 64.32978057861328, Test Loss_AB: 0.5109246373176575, Test Loss_E: 64.50495910644531\n",
            "Epoch 226/250, Train Loss_AB: 0.5103647112846375, Train Loss_E: 64.32820129394531, Test Loss_AB: 0.510911762714386, Test Loss_E: 64.50341033935547\n",
            "Epoch 227/250, Train Loss_AB: 0.5103511214256287, Train Loss_E: 64.32665252685547, Test Loss_AB: 0.5108990669250488, Test Loss_E: 64.50189208984375\n",
            "Epoch 228/250, Train Loss_AB: 0.5103377103805542, Train Loss_E: 64.32513427734375, Test Loss_AB: 0.510886549949646, Test Loss_E: 64.50039672851562\n",
            "Epoch 229/250, Train Loss_AB: 0.5103245377540588, Train Loss_E: 64.32364654541016, Test Loss_AB: 0.5108741521835327, Test Loss_E: 64.49893951416016\n",
            "Epoch 230/250, Train Loss_AB: 0.510311484336853, Train Loss_E: 64.32218933105469, Test Loss_AB: 0.5108619928359985, Test Loss_E: 64.49751281738281\n",
            "Epoch 231/250, Train Loss_AB: 0.5102986693382263, Train Loss_E: 64.32076263427734, Test Loss_AB: 0.5108498930931091, Test Loss_E: 64.49610137939453\n",
            "Epoch 232/250, Train Loss_AB: 0.5102859735488892, Train Loss_E: 64.3193588256836, Test Loss_AB: 0.5108380317687988, Test Loss_E: 64.4947280883789\n",
            "Epoch 233/250, Train Loss_AB: 0.5102734565734863, Train Loss_E: 64.31798553466797, Test Loss_AB: 0.5108263492584229, Test Loss_E: 64.49337005615234\n",
            "Epoch 234/250, Train Loss_AB: 0.5102611184120178, Train Loss_E: 64.31663513183594, Test Loss_AB: 0.5108147859573364, Test Loss_E: 64.4920425415039\n",
            "Epoch 235/250, Train Loss_AB: 0.5102490186691284, Train Loss_E: 64.3153076171875, Test Loss_AB: 0.5108034014701843, Test Loss_E: 64.4907455444336\n",
            "Epoch 236/250, Train Loss_AB: 0.5102369785308838, Train Loss_E: 64.31401062011719, Test Loss_AB: 0.5107921361923218, Test Loss_E: 64.48946380615234\n",
            "Epoch 237/250, Train Loss_AB: 0.5102251768112183, Train Loss_E: 64.31273651123047, Test Loss_AB: 0.5107811093330383, Test Loss_E: 64.48821258544922\n",
            "Epoch 238/250, Train Loss_AB: 0.5102135539054871, Train Loss_E: 64.31148529052734, Test Loss_AB: 0.5107702016830444, Test Loss_E: 64.48698425292969\n",
            "Epoch 239/250, Train Loss_AB: 0.5102020502090454, Train Loss_E: 64.31025695800781, Test Loss_AB: 0.5107594728469849, Test Loss_E: 64.48577880859375\n",
            "Epoch 240/250, Train Loss_AB: 0.5101907849311829, Train Loss_E: 64.30905151367188, Test Loss_AB: 0.5107489228248596, Test Loss_E: 64.4845962524414\n",
            "Epoch 241/250, Train Loss_AB: 0.5101796388626099, Train Loss_E: 64.30787658691406, Test Loss_AB: 0.5107384324073792, Test Loss_E: 64.48343658447266\n",
            "Epoch 242/250, Train Loss_AB: 0.5101686716079712, Train Loss_E: 64.30671691894531, Test Loss_AB: 0.510728120803833, Test Loss_E: 64.48229217529297\n",
            "Epoch 243/250, Train Loss_AB: 0.5101578235626221, Train Loss_E: 64.30558776855469, Test Loss_AB: 0.510718047618866, Test Loss_E: 64.4811782836914\n",
            "Epoch 244/250, Train Loss_AB: 0.510147213935852, Train Loss_E: 64.30447387695312, Test Loss_AB: 0.5107080340385437, Test Loss_E: 64.4800796508789\n",
            "Epoch 245/250, Train Loss_AB: 0.5101366639137268, Train Loss_E: 64.30337524414062, Test Loss_AB: 0.510698139667511, Test Loss_E: 64.47901153564453\n",
            "Epoch 246/250, Train Loss_AB: 0.5101263523101807, Train Loss_E: 64.30230712890625, Test Loss_AB: 0.5106884837150574, Test Loss_E: 64.47795104980469\n",
            "Epoch 247/250, Train Loss_AB: 0.5101161599159241, Train Loss_E: 64.30125427246094, Test Loss_AB: 0.5106788873672485, Test Loss_E: 64.47691345214844\n",
            "Epoch 248/250, Train Loss_AB: 0.510106086730957, Train Loss_E: 64.30022430419922, Test Loss_AB: 0.5106695294380188, Test Loss_E: 64.47589874267578\n",
            "Epoch 249/250, Train Loss_AB: 0.5100962519645691, Train Loss_E: 64.29920959472656, Test Loss_AB: 0.5106602311134338, Test Loss_E: 64.47490692138672\n",
            "Epoch 250/250, Train Loss_AB: 0.5100864768028259, Train Loss_E: 64.29822540283203, Test Loss_AB: 0.5106511116027832, Test Loss_E: 64.47392272949219\n"
          ]
        }
      ]
    },
    {
      "cell_type": "markdown",
      "source": [
        "# Plotting"
      ],
      "metadata": {
        "id": "JU4a4qyTu4mp"
      }
    },
    {
      "cell_type": "code",
      "source": [
        "plt.figure(figsize=(12, 6))\n",
        "plt.subplot(1, 2, 1)\n",
        "plt.plot(train_losses_ab_list, label='Train Bob Loss')\n",
        "plt.plot(train_losses_e_list, label='Train Eve Loss')\n",
        "plt.xlabel('Epochs')\n",
        "plt.ylabel('Loss')\n",
        "plt.title('Training Losses')\n",
        "plt.legend()\n",
        "\n",
        "plt.subplot(1, 2, 2)\n",
        "plt.plot(test_losses_ab_list, label='Test Bob Loss')\n",
        "plt.plot(test_losses_e_list, label='Test Eve Loss')\n",
        "plt.xlabel('Epochs')\n",
        "plt.ylabel('Loss')\n",
        "plt.title('Testing Losses')\n",
        "plt.legend()\n",
        "\n",
        "plt.tight_layout()\n",
        "plt.show()"
      ],
      "metadata": {
        "colab": {
          "base_uri": "https://localhost:8080/",
          "height": 607
        },
        "id": "B8_JZiw7u6pA",
        "outputId": "102aaca0-211d-4607-d0e2-218725194acb"
      },
      "execution_count": 12,
      "outputs": [
        {
          "output_type": "display_data",
          "data": {
            "text/plain": [
              "<Figure size 1200x600 with 2 Axes>"
            ],
            "image/png": "[encoded data removed]"
          },
          "metadata": {}
        }
      ]
    },
    {
      "cell_type": "code",
      "source": [],
      "metadata": {
        "id": "j4WxOwNWvcr7"
      },
      "execution_count": 12,
      "outputs": []
    }
  ]
}